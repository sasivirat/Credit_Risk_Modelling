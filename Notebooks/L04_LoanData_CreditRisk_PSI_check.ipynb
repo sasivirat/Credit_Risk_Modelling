{
  "cells": [
    {
      "cell_type": "markdown",
      "metadata": {
        "id": "eRF4o5oDWICv"
      },
      "source": [
        "# Credit Risk Modeling | Part 4: Checking Populating Stability Index (PSI)\n",
        "\n",
        "<img src = \"https://insightconsultants.co/wp-content/uploads/2020/05/creditscore.jpg\" width = '750'>\n",
        "\n",
        "\n",
        "We obtained the credit risk models with the loan data from 2007 to 2014. In this notebook, we will check if the model performs well with the loan data in 2015.  \n",
        "  \n",
        "Credit score is the outcome that our probability model gives us, or, in other words, the assessment of credit worthiness. The substantial difference between the two populations shows that it is necessary to build a new PD model which corresponds more closely to the most recent population."
      ]
    },
    {
      "cell_type": "markdown",
      "metadata": {
        "id": "Ed8x4ChjHHoN"
      },
      "source": [
        "# 1 Data Preparation"
      ]
    },
    {
      "cell_type": "markdown",
      "metadata": {
        "id": "5j6DqIieWIC4"
      },
      "source": [
        "## Importing Libraries"
      ]
    },
    {
      "cell_type": "code",
      "execution_count": null,
      "metadata": {
        "colab": {
          "base_uri": "https://localhost:8080/"
        },
        "id": "wbPSxQTlQaWu",
        "outputId": "6669f060-4519-481c-c6bd-aff71d5f817d"
      },
      "outputs": [],
      "source": [
        "#installing gdown package to download dataset stored in G Drive\n",
        "!pip install gdown\n",
        "# to upgrade\n",
        "!pip install --upgrade gdown"
      ]
    },
    {
      "cell_type": "code",
      "execution_count": 2,
      "metadata": {
        "id": "KtnFrE1fWIC5"
      },
      "outputs": [],
      "source": [
        "#libs for managing data\n",
        "import numpy as np\n",
        "import pandas as pd\n",
        "\n",
        "#libs for ML regression model\n",
        "from sklearn.linear_model import LogisticRegression\n",
        "from sklearn import metrics  \n",
        "from sklearn.metrics import roc_curve, roc_auc_score\n",
        "\n",
        "#libs for plotting\n",
        "import matplotlib.pyplot as plt\n",
        "import seaborn as sns\n",
        "sns.set()\n",
        "\n",
        "#exporting ML model\n",
        "import pickle\n",
        "\n",
        "#lib to download dataset on g drive\n",
        "import gdown\n",
        "\n",
        "#setting display option max rows\n",
        "#pd.options.display.max_rows = None\n",
        "\n",
        "#importing custom-made functions\n",
        "import sys #importing local functions in src folder\n",
        "sys.path.append('../src/')\n",
        "from functions import *"
      ]
    },
    {
      "cell_type": "markdown",
      "metadata": {
        "id": "6OzM8QF1DKDS"
      },
      "source": [
        "## Importing Data"
      ]
    },
    {
      "cell_type": "code",
      "execution_count": 3,
      "metadata": {
        "id": "G96cecIfQXyT"
      },
      "outputs": [],
      "source": [
        "# #loading dataset from Gdrive\n",
        "# #fname_2007etp = \"https://drive.google.com/file/d/16JXrTBSgEJH4_30zlFFBye1GRHh5h4O0/view?usp=share_link\"\n",
        "# #fname_2007etp = 'https://drive.google.com/uc?id=' + fname_2007etp.split('/')[-2]\n",
        "\n",
        "# #updated dataset\n",
        "# fname_2015 = \"https://drive.google.com/file/d/1Fb7LFd97aJm0ySb0A48_znfe9KQzaUZO/view?usp=share_link\"\n",
        "# fname_2015 = 'https://drive.google.com/uc?id=' + fname_2015.split('/')[-2]"
      ]
    },
    {
      "cell_type": "code",
      "execution_count": null,
      "metadata": {
        "colab": {
          "base_uri": "https://localhost:8080/",
          "height": 105
        },
        "id": "NkBelJG1Er70",
        "outputId": "7a99a251-764a-4f22-b742-518679bdf8c1"
      },
      "outputs": [],
      "source": [
        "# # downloading gdrive files\n",
        "# url = fname_2015\n",
        "# output = \"loan_data_2015.csv\"\n",
        "# gdown.download(url, output, quiet=False)"
      ]
    },
    {
      "cell_type": "code",
      "execution_count": null,
      "metadata": {
        "colab": {
          "base_uri": "https://localhost:8080/"
        },
        "id": "BgT1ShMSErxH",
        "outputId": "dfd9003b-e4ec-4ca3-c597-07605d2ca1fe"
      },
      "outputs": [],
      "source": [
        "loan_data= pd.read_csv(output)"
      ]
    },
    {
      "cell_type": "code",
      "execution_count": 6,
      "metadata": {
        "colab": {
          "base_uri": "https://localhost:8080/"
        },
        "id": "TYuzP3-oLPPy",
        "outputId": "33b85127-c4fb-4fa1-e773-b634ac9b6ac4"
      },
      "outputs": [],
      "source": [
        "# test and train datasets were preprocessed in the first notebook.\n",
        "# they were than stocked over G-drive for the easiness. \n",
        "# the links below download the training dataset  from G-Drive\n",
        "# url = \"https://drive.google.com/file/d/1v45P0HhUxZ1x4HmD0bWblpUyUWuiC0_5/view?usp=share_link\"\n",
        "# output = \"loan_data_inputs_train.csv\"\n",
        "# g_down (url,'../data/'+output)"
      ]
    },
    {
      "cell_type": "code",
      "execution_count": null,
      "metadata": {
        "id": "SDEV75CVLPPz"
      },
      "outputs": [],
      "source": [
        "#loading csv files as pd dataframes\n",
        "inputs_train = pd.read_csv ('../data/'+'loan_data_inputs_train.csv',index_col =0)"
      ]
    },
    {
      "cell_type": "markdown",
      "metadata": {
        "id": "yIOvfLX_E3PS"
      },
      "source": [
        "## Exploring Data"
      ]
    },
    {
      "cell_type": "code",
      "execution_count": null,
      "metadata": {
        "colab": {
          "base_uri": "https://localhost:8080/"
        },
        "id": "fW_MIIhaErlS",
        "outputId": "ee9e96e3-0c0e-4b10-c850-8c21559a4d87"
      },
      "outputs": [],
      "source": [
        "# Uncomment below to set the pandas dataframe options to display all columns/ rows.\n",
        "#pd.options.display.max_columns = None\n",
        "#pd.options.display.max_rows = None\n",
        "\n",
        "loan_data.shape"
      ]
    },
    {
      "cell_type": "code",
      "execution_count": null,
      "metadata": {
        "colab": {
          "base_uri": "https://localhost:8080/",
          "height": 386
        },
        "id": "0Rdjd8sFFASW",
        "outputId": "3c68fd05-c959-4a0d-b949-b03716e2c89e"
      },
      "outputs": [],
      "source": [
        "loan_data.head()"
      ]
    },
    {
      "cell_type": "code",
      "execution_count": null,
      "metadata": {
        "colab": {
          "base_uri": "https://localhost:8080/",
          "height": 386
        },
        "id": "-_7MVLU5FAJt",
        "outputId": "02db80f2-cfad-4042-a179-5447742772c2"
      },
      "outputs": [],
      "source": [
        "loan_data.tail()"
      ]
    },
    {
      "cell_type": "code",
      "execution_count": null,
      "metadata": {
        "colab": {
          "base_uri": "https://localhost:8080/"
        },
        "id": "wnnf0rggFABG",
        "outputId": "aabf7870-c72a-4867-d289-2352f7074d4d"
      },
      "outputs": [],
      "source": [
        "loan_data.columns.values"
      ]
    },
    {
      "cell_type": "code",
      "execution_count": null,
      "metadata": {
        "colab": {
          "base_uri": "https://localhost:8080/"
        },
        "id": "PMPLtm7IE_23",
        "outputId": "bfae1810-194f-4e3a-8fe3-a46927dda420"
      },
      "outputs": [],
      "source": [
        "# Displaying column names with non missing cases and datatype\n",
        "loan_data.info()"
      ]
    },
    {
      "cell_type": "markdown",
      "metadata": {
        "id": "GIFF-2PwG6KP"
      },
      "source": [
        "# 2 General Preprocessing"
      ]
    },
    {
      "cell_type": "markdown",
      "metadata": {
        "id": "PCithtNTG-BD"
      },
      "source": [
        "## a Discrete variables - Dummy columns"
      ]
    },
    {
      "cell_type": "code",
      "execution_count": 13,
      "metadata": {
        "id": "BeaJ5p6vGY25"
      },
      "outputs": [],
      "source": [
        "dummy_columns = ['grade','sub_grade','home_ownership','verification_status',\n",
        "                 'loan_status','purpose','addr_state','initial_list_status']\n",
        "\n",
        "df_Dummies = pd.DataFrame()\n",
        "for col in dummy_columns:\n",
        "  df_Dummy= pd.get_dummies(loan_data[col], prefix = col, prefix_sep = ':')\n",
        "  df_Dummies = pd.concat([df_Dummies,df_Dummy ], axis=1)\n",
        "  #print(loan_data_Dummies.head())\n",
        "  # = pd.concat([loan_data,loan_data_Dummies],axis = 1)"
      ]
    },
    {
      "cell_type": "code",
      "execution_count": null,
      "metadata": {
        "colab": {
          "base_uri": "https://localhost:8080/"
        },
        "id": "9CNEopAtGYwA",
        "outputId": "a71bc715-75d6-47c5-9a97-0ccaf33bff1d"
      },
      "outputs": [],
      "source": [
        "#list of all dummy columns. \n",
        "df_Dummies.columns.values"
      ]
    },
    {
      "cell_type": "code",
      "execution_count": 15,
      "metadata": {
        "id": "h2ZRG8MwGYpC"
      },
      "outputs": [],
      "source": [
        "#merging dummy columns with the main dataset\n",
        "loan_data = pd.concat([loan_data,df_Dummies],axis = 1)"
      ]
    },
    {
      "cell_type": "markdown",
      "metadata": {
        "id": "5guveAdMHbMV"
      },
      "source": [
        "## b Continuous variables - Dt format conversion"
      ]
    },
    {
      "cell_type": "code",
      "execution_count": null,
      "metadata": {
        "colab": {
          "base_uri": "https://localhost:8080/"
        },
        "id": "IzcwVkXEGYkQ",
        "outputId": "27909093-ec35-446c-8be3-e87e265b25a1"
      },
      "outputs": [],
      "source": [
        "#lets convert emp_length into integer\n",
        "loan_data['emp_length'].unique()"
      ]
    },
    {
      "cell_type": "code",
      "execution_count": 19,
      "metadata": {
        "colab": {
          "base_uri": "https://localhost:8080/"
        },
        "id": "T_pjkrEJGYVj",
        "outputId": "f5f45062-4e27-4c39-9a22-8c7928b2895d"
      },
      "outputs": [],
      "source": [
        "# Clean and convert 'emp_length' to numeric\n",
        "loan_data['emp_length_int'] = (\n",
        "    loan_data['emp_length']\n",
        "    .str.replace(r'\\+ years?|< 1 year|n/a', '0', regex=True)  # Handle '+ years', '< 1 year', and 'n/a'\n",
        "    .str.replace(r' years?| year', '', regex=True)            # Remove 'year' or 'years'\n",
        ")\n",
        "\n",
        "# Convert to numeric type\n",
        "loan_data['emp_length_int'] = pd.to_numeric(loan_data['emp_length_int'], errors='coerce')"
      ]
    },
    {
      "cell_type": "code",
      "execution_count": null,
      "metadata": {
        "id": "nd-I5vhlHmNO"
      },
      "outputs": [],
      "source": []
    },
    {
      "cell_type": "code",
      "execution_count": null,
      "metadata": {
        "colab": {
          "base_uri": "https://localhost:8080/"
        },
        "id": "rcprET5AHmJq",
        "outputId": "a8e60b8c-a3cc-4fb0-e4f8-a0d1c0d8c082"
      },
      "outputs": [],
      "source": [
        "# date variables not in dt format\n",
        "loan_data['earliest_cr_line']"
      ]
    },
    {
      "cell_type": "code",
      "execution_count": 21,
      "metadata": {
        "id": "liVuyl0-HmFI"
      },
      "outputs": [],
      "source": [
        "#converting date column to format %b-%y : Apr-03 => 2003-04-03\n",
        "loan_data['earliest_cr_line_date']=pd.to_datetime(loan_data['earliest_cr_line'],format = '%b-%y')\n",
        "#calculating the months since a default date taken as 2017-12-01\n",
        "diff_cr_line = pd.to_datetime('2017-12-01') - loan_data['earliest_cr_line_date']\n",
        "loan_data['mths_since_earliest_cr_line'] = round(pd.to_numeric( diff_cr_line / np.timedelta64(1, 'M')))"
      ]
    },
    {
      "cell_type": "code",
      "execution_count": null,
      "metadata": {
        "colab": {
          "base_uri": "https://localhost:8080/"
        },
        "id": "OpG1XZewHmBA",
        "outputId": "50385522-9fb9-4654-e21a-4b63407dca2a"
      },
      "outputs": [],
      "source": [
        "loan_data['mths_since_earliest_cr_line'].describe()"
      ]
    },
    {
      "cell_type": "code",
      "execution_count": null,
      "metadata": {
        "colab": {
          "base_uri": "https://localhost:8080/",
          "height": 206
        },
        "id": "wTwr57TTHwJr",
        "outputId": "964c0c7a-e006-4e5b-b502-bef13358116b"
      },
      "outputs": [],
      "source": [
        "#finding out why there are negative values in our dataset\n",
        "m1 = loan_data['mths_since_earliest_cr_line']<0\n",
        "loan_data.loc[m1,['earliest_cr_line','earliest_cr_line_date','mths_since_earliest_cr_line']].head()"
      ]
    },
    {
      "cell_type": "code",
      "execution_count": 24,
      "metadata": {
        "id": "_EllTdHnHwFW"
      },
      "outputs": [],
      "source": [
        "# it is neccessary to handle negative values. they are due to the 196x data read as 206x\n",
        "# we take the maximum month difference to replace negative values\n",
        "loan_data.loc[m1,'mths_since_earliest_cr_line'] = loan_data.loc[:,'mths_since_earliest_cr_line'].max()"
      ]
    },
    {
      "cell_type": "code",
      "execution_count": null,
      "metadata": {
        "colab": {
          "base_uri": "https://localhost:8080/"
        },
        "id": "c0ZfE4HNHwA3",
        "outputId": "c2380123-eda3-47e0-964e-9bffe4d45507"
      },
      "outputs": [],
      "source": [
        "#let's convert term column to integer format\n",
        "loan_data['term']"
      ]
    },
    {
      "cell_type": "code",
      "execution_count": null,
      "metadata": {
        "colab": {
          "base_uri": "https://localhost:8080/"
        },
        "id": "_xUGD9doHv74",
        "outputId": "6f7567a7-2120-4351-9734-a6cd28f4a738"
      },
      "outputs": [],
      "source": [
        "loan_data['term_int'] = loan_data['term'].str.replace(' months', '').astype(int)\n",
        "loan_data['term_int'].describe()"
      ]
    },
    {
      "cell_type": "code",
      "execution_count": null,
      "metadata": {
        "colab": {
          "base_uri": "https://localhost:8080/"
        },
        "id": "d73XGCqXHv32",
        "outputId": "17d690a3-032f-40fc-8b44-2b90395bac06"
      },
      "outputs": [],
      "source": [
        "# Assuming we are in December 2017\n",
        "loan_data['issue_d_date'] = pd.to_datetime(loan_data['issue_d'], format = '%b-%y')\n",
        "\n",
        "#calculating the month difference from 2017-12-01\n",
        "# We calculate the difference between two dates in months, turn it to numeric datatype and round it.\n",
        "diff_issue_d = pd.to_datetime('2017-12-01') - loan_data['issue_d_date']\n",
        "loan_data['mths_since_issue_d'] = round(pd.to_numeric( diff_issue_d / np.timedelta64(1, 'M')))\n",
        "\n",
        "# Showing some descriptive statisics for the values of a column.\n",
        "loan_data['mths_since_issue_d'].describe()"
      ]
    },
    {
      "cell_type": "markdown",
      "metadata": {
        "id": "IT64F5CMH6Tm"
      },
      "source": [
        "## c Checking for missing values or cleaning them"
      ]
    },
    {
      "cell_type": "code",
      "execution_count": null,
      "metadata": {
        "colab": {
          "base_uri": "https://localhost:8080/"
        },
        "id": "UtSTVT0rHvpt",
        "outputId": "7111100a-fb3e-432c-8abe-9e9965b72acb"
      },
      "outputs": [],
      "source": [
        "pd.options.display.max_rows = None\n",
        "loan_data.isnull().sum().sort_values(ascending=False)"
      ]
    },
    {
      "cell_type": "code",
      "execution_count": 29,
      "metadata": {
        "id": "Z-u4li6CHl9X"
      },
      "outputs": [],
      "source": [
        "# filling up the empty rows that will be used in our model.\n",
        "# we use funded_amnt for the missing total_rev_hi_lim values\n",
        "# fundedAmnt The total amount committed to that loan at that point in time.\n",
        "loan_data['total_rev_hi_lim'].fillna(loan_data['funded_amnt'],inplace = True)"
      ]
    },
    {
      "cell_type": "code",
      "execution_count": 30,
      "metadata": {
        "id": "PvDAJJ5OHlzp"
      },
      "outputs": [],
      "source": [
        "# for the missing values in annual_inc, mean value is considered.  \n",
        "loan_data['annual_inc'].fillna(loan_data['annual_inc'].mean(),inplace = True)"
      ]
    },
    {
      "cell_type": "code",
      "execution_count": 31,
      "metadata": {
        "id": "XpYy7ZZTICWt"
      },
      "outputs": [],
      "source": [
        "# for the missing values below, we consider 0\n",
        "loan_data['mths_since_earliest_cr_line'].fillna(0,inplace = True)\n",
        "loan_data['acc_now_delinq'].fillna(0, inplace=True)\n",
        "loan_data['total_acc'].fillna(0, inplace=True)\n",
        "loan_data['pub_rec'].fillna(0, inplace=True)\n",
        "loan_data['open_acc'].fillna(0, inplace=True)\n",
        "loan_data['inq_last_6mths'].fillna(0, inplace=True)\n",
        "loan_data['delinq_2yrs'].fillna(0, inplace=True)\n",
        "loan_data['emp_length_int'].fillna(0, inplace=True)"
      ]
    },
    {
      "cell_type": "markdown",
      "metadata": {
        "id": "xv3K-8hPImDO"
      },
      "source": [
        "##**d Preprocessing of discrete variables**\n",
        "\n",
        "We apply the same preprocessing as done in L01 notebook.\n"
      ]
    },
    {
      "cell_type": "code",
      "execution_count": null,
      "metadata": {
        "colab": {
          "base_uri": "https://localhost:8080/"
        },
        "id": "b2mV7TOUJOwI",
        "outputId": "c5b57bdf-864a-4936-fc46-7a99a338c913"
      },
      "outputs": [],
      "source": [
        "#running preproc on test dataset\n",
        "loan_data_2015= preproc_input_data2015 (loan_data)\n",
        "loan_data_2015.columns.values"
      ]
    },
    {
      "cell_type": "code",
      "execution_count": 33,
      "metadata": {
        "id": "bCHtOMoyQ-0Q"
      },
      "outputs": [],
      "source": [
        "# We commented on some features, the coefficients for all or almost all of the dummy variables for which,\n",
        "# are not statistically significant.\n",
        "# Refined variables\n",
        "features_all = ['grade:A',\n",
        "'grade:B',\n",
        "'grade:C',\n",
        "'grade:D',\n",
        "'grade:E',\n",
        "'grade:F',\n",
        "'grade:G',\n",
        "'home_ownership:RENT_OTHER_NONE_ANY',\n",
        "'home_ownership:OWN',\n",
        "'home_ownership:MORTGAGE',\n",
        "'addr_state:ND_NE_IA_NV_FL_HI_AL',\n",
        "'addr_state:NM_VA',\n",
        "'addr_state:NY',\n",
        "'addr_state:OK_TN_MO_LA_MD_NC',\n",
        "'addr_state:CA',\n",
        "'addr_state:UT_KY_AZ_NJ',\n",
        "'addr_state:AR_MI_PA_OH_MN',\n",
        "'addr_state:RI_MA_DE_SD_IN',\n",
        "'addr_state:GA_WA_OR',\n",
        "'addr_state:WI_MT',\n",
        "'addr_state:TX',\n",
        "'addr_state:IL_CT',\n",
        "'addr_state:KS_SC_CO_VT_AK_MS',\n",
        "'addr_state:WV_NH_WY_DC_ME_ID',\n",
        "'verification_status:Not Verified',\n",
        "'verification_status:Source Verified',\n",
        "'verification_status:Verified',\n",
        "'purpose:educ__sm_b__wedd__ren_en__mov__house',\n",
        "'purpose:credit_card',\n",
        "'purpose:debt_consolidation',\n",
        "'purpose:oth__med__vacation',\n",
        "'purpose:major_purch__car__home_impr',\n",
        "'initial_list_status:f',\n",
        "'initial_list_status:w',\n",
        "'term:36',\n",
        "'term:60',\n",
        "'emp_length:0',\n",
        "'emp_length:1',\n",
        "'emp_length:2-4',\n",
        "'emp_length:5-6',\n",
        "'emp_length:7-9',\n",
        "'emp_length:10',\n",
        "'int_rate:<9.548',\n",
        "'int_rate:9.548-12.025',\n",
        "'int_rate:12.025-15.74',\n",
        "'int_rate:15.74-20.281',\n",
        "'int_rate:>20.281',\n",
        "#'mths_since_earliest_cr_line:<140',\n",
        "#'mths_since_earliest_cr_line:141-164',\n",
        "#'mths_since_earliest_cr_line:165-247',\n",
        "#'mths_since_earliest_cr_line:248-270',\n",
        "#'mths_since_earliest_cr_line:271-352',\n",
        "#'mths_since_earliest_cr_line:>352',\n",
        "#'delinq_2yrs:0',\n",
        "#'delinq_2yrs:1-3',\n",
        "#'delinq_2yrs:>=4',\n",
        "'inq_last_6mths:0',\n",
        "'inq_last_6mths:1-2',\n",
        "'inq_last_6mths:3-6',\n",
        "'inq_last_6mths:>6',\n",
        "#'open_acc:0',\n",
        "#'open_acc:1-3',\n",
        "#'open_acc:4-12',\n",
        "#'open_acc:13-17',\n",
        "#'open_acc:18-22',\n",
        "#'open_acc:23-25',\n",
        "#'open_acc:26-30',\n",
        "#'open_acc:>=31',\n",
        "'pub_rec:0-2',\n",
        "'pub_rec:3-4',\n",
        "'pub_rec:>=5',\n",
        "#'total_acc:<=27',\n",
        "#'total_acc:28-51',\n",
        "#'total_acc:>=52',\n",
        "'acc_now_delinq:0',\n",
        "'acc_now_delinq:>=1',\n",
        "'total_rev_hi_lim:<=5K',\n",
        "'total_rev_hi_lim:5K-10K',\n",
        "'total_rev_hi_lim:10K-20K',\n",
        "'total_rev_hi_lim:20K-30K',\n",
        "'total_rev_hi_lim:30K-40K',\n",
        "'total_rev_hi_lim:40K-55K',\n",
        "'total_rev_hi_lim:55K-95K',\n",
        "'total_rev_hi_lim:>95K',\n",
        "'annual_inc:<20K',\n",
        "'annual_inc:20K-30K',\n",
        "'annual_inc:30K-40K',\n",
        "'annual_inc:40K-50K',\n",
        "'annual_inc:50K-60K',\n",
        "'annual_inc:60K-70K',\n",
        "'annual_inc:70K-80K',\n",
        "'annual_inc:80K-90K',\n",
        "'annual_inc:90K-100K',\n",
        "'annual_inc:100K-120K',\n",
        "'annual_inc:120K-140K',\n",
        "'annual_inc:>140K',\n",
        "'dti:<=1.4',\n",
        "'dti:1.4-3.5',\n",
        "'dti:3.5-7.7',\n",
        "'dti:7.7-10.5',\n",
        "'dti:10.5-16.1',\n",
        "'dti:16.1-20.3',\n",
        "'dti:20.3-21.7',\n",
        "'dti:21.7-22.4',\n",
        "'dti:22.4-35',\n",
        "'dti:>35',\n",
        "#'mths_since_last_delinq:Missing',\n",
        "#'mths_since_last_delinq:0-3',\n",
        "#'mths_since_last_delinq:4-30',\n",
        "#'mths_since_last_delinq:31-56',\n",
        "#'mths_since_last_delinq:>=57',\n",
        "#'mths_since_last_record:Missing',\n",
        "#'mths_since_last_record:0-2',\n",
        "#'mths_since_last_record:3-20',\n",
        "#'mths_since_last_record:21-31',\n",
        "#'mths_since_last_record:32-80',\n",
        "#'mths_since_last_record:81-86',\n",
        "#'mths_since_last_record:>=86',\n",
        "]\n"
      ]
    },
    {
      "cell_type": "code",
      "execution_count": 34,
      "metadata": {
        "id": "3AETGsBqRBtg"
      },
      "outputs": [],
      "source": [
        "\n",
        "ref_categories = ['grade:G',\n",
        "'home_ownership:RENT_OTHER_NONE_ANY',\n",
        "'addr_state:ND_NE_IA_NV_FL_HI_AL',\n",
        "'verification_status:Verified',\n",
        "'purpose:educ__sm_b__wedd__ren_en__mov__house',\n",
        "'initial_list_status:f',\n",
        "'term:60',\n",
        "'emp_length:0',\n",
        "'int_rate:>20.281',\n",
        "#'mths_since_earliest_cr_line:<140',\n",
        "#'delinq_2yrs:>=4',\n",
        "'inq_last_6mths:>6',\n",
        "#'open_acc:0',\n",
        "'pub_rec:0-2',\n",
        "#'total_acc:<=27',\n",
        "'acc_now_delinq:0',\n",
        "'total_rev_hi_lim:<=5K',\n",
        "'annual_inc:<20K',\n",
        "'dti:>35'\n",
        "#'mths_since_last_delinq:0-3',\n",
        "#'mths_since_last_record:0-2'\n",
        "]"
      ]
    },
    {
      "cell_type": "code",
      "execution_count": 35,
      "metadata": {
        "id": "nbVgrNE0RDNL"
      },
      "outputs": [],
      "source": [
        "inputs_2015_With_ref_cat = loan_data_2015.loc[:,features_all]"
      ]
    },
    {
      "cell_type": "code",
      "execution_count": null,
      "metadata": {
        "colab": {
          "base_uri": "https://localhost:8080/",
          "height": 317
        },
        "id": "XGp9wdD5Et3m",
        "outputId": "df83bc7c-bf34-44b4-80f0-728a1f3fd0d4"
      },
      "outputs": [],
      "source": [
        "# loading values of df in a new dataframe.   \n",
        "inputs_train_With_ref_categories = inputs_train.loc[: ,features_all]\n",
        " \n",
        "inputs_train_With_ref_categories.head()"
      ]
    },
    {
      "cell_type": "code",
      "execution_count": null,
      "metadata": {
        "colab": {
          "base_uri": "https://localhost:8080/"
        },
        "id": "rhVbrRcKgYVl",
        "outputId": "7ffd544b-494a-4d67-b28d-6ab89d1228f3"
      },
      "outputs": [],
      "source": [
        "inputs_2015_With_ref_cat.shape"
      ]
    },
    {
      "cell_type": "markdown",
      "metadata": {
        "id": "AWa2iu42LveU"
      },
      "source": [
        "# 3 Calculating scores from a score card"
      ]
    },
    {
      "cell_type": "code",
      "execution_count": 38,
      "metadata": {
        "id": "r3wA2t7CgYFX"
      },
      "outputs": [],
      "source": [
        "#url = 'https://drive.google.com/file/d/1XU0CwMv2skhc_P_LHiDZzUx1N0kEW2Rg/view?usp=share_link'\n",
        "#output = 'df_scorecard.csv'\n",
        "#g_down (url,output)\n",
        "\n",
        "df_scorecard = pd.read_csv ('../data/df_scorecard.csv',index_col= 0)"
      ]
    },
    {
      "cell_type": "code",
      "execution_count": null,
      "metadata": {
        "colab": {
          "base_uri": "https://localhost:8080/",
          "height": 1000
        },
        "id": "rTTqXyh9h7i7",
        "outputId": "160f2631-6085-4288-8458-889651d20f0b"
      },
      "outputs": [],
      "source": [
        "df_scorecard"
      ]
    },
    {
      "cell_type": "code",
      "execution_count": null,
      "metadata": {
        "colab": {
          "base_uri": "https://localhost:8080/",
          "height": 317
        },
        "id": "I5e9KQpzh7aO",
        "outputId": "48fac2e8-a1ff-4399-b08d-5e034f635f4c"
      },
      "outputs": [],
      "source": [
        "inputs_train_With_ref_cat_w_intercept = inputs_train_With_ref_categories\n",
        "inputs_train_With_ref_cat_w_intercept.insert(0,'Intercept', 1)\n",
        "inputs_train_With_ref_cat_w_intercept = inputs_train_With_ref_cat_w_intercept[df_scorecard['Feature name'].values]\n",
        "inputs_train_With_ref_cat_w_intercept.head()"
      ]
    },
    {
      "cell_type": "code",
      "execution_count": null,
      "metadata": {
        "colab": {
          "base_uri": "https://localhost:8080/",
          "height": 317
        },
        "id": "jQNHPvhxh7R7",
        "outputId": "59483461-095d-4bee-ba6d-e83d8b79a09d"
      },
      "outputs": [],
      "source": [
        "inputs_2015_With_ref_cat_w_intercept = inputs_2015_With_ref_cat\n",
        "inputs_2015_With_ref_cat_w_intercept.insert(0,'Intercept', 1)\n",
        "inputs_2015_With_ref_cat_w_intercept = inputs_2015_With_ref_cat_w_intercept[df_scorecard['Feature name'].values]\n",
        "inputs_2015_With_ref_cat_w_intercept.head()"
      ]
    },
    {
      "cell_type": "code",
      "execution_count": 42,
      "metadata": {
        "id": "9QEVa0qjjwZw"
      },
      "outputs": [],
      "source": [
        "scorecard_scores = df_scorecard['Score - Final']\n",
        "scorecard_scores = scorecard_scores.values.reshape(87,1)"
      ]
    },
    {
      "cell_type": "code",
      "execution_count": null,
      "metadata": {
        "colab": {
          "base_uri": "https://localhost:8080/",
          "height": 206
        },
        "id": "75RVoQlWjwU8",
        "outputId": "e01956d5-2220-49f0-f768-f9aaa5214f55"
      },
      "outputs": [],
      "source": [
        "y_scores_train = inputs_train_With_ref_cat_w_intercept.dot(scorecard_scores)\n",
        "y_scores_train.head()"
      ]
    },
    {
      "cell_type": "code",
      "execution_count": null,
      "metadata": {
        "colab": {
          "base_uri": "https://localhost:8080/",
          "height": 206
        },
        "id": "BU6pcy6KjwQc",
        "outputId": "c458ff55-f08d-471c-b89c-a5ad218531b2"
      },
      "outputs": [],
      "source": [
        "y_scores_2015 = inputs_2015_With_ref_cat_w_intercept.dot(scorecard_scores)\n",
        "y_scores_2015.head()"
      ]
    },
    {
      "cell_type": "code",
      "execution_count": 45,
      "metadata": {
        "id": "LYxkg6RcjwLi"
      },
      "outputs": [],
      "source": [
        "inputs_train_with_ref_cat_w_intercept = pd.concat([inputs_train_With_ref_cat_w_intercept, y_scores_train], axis = 1)\n",
        "inputs_2015_with_ref_cat_w_intercept = pd.concat([inputs_2015_With_ref_cat_w_intercept, y_scores_2015], axis = 1)"
      ]
    },
    {
      "cell_type": "code",
      "execution_count": 46,
      "metadata": {
        "id": "RcsAulDojwGd"
      },
      "outputs": [],
      "source": [
        "inputs_train_with_ref_cat_w_intercept.columns.values[inputs_train_with_ref_cat_w_intercept.shape[1]-1] = 'Score'\n",
        "inputs_2015_with_ref_cat_w_intercept.columns.values[inputs_2015_with_ref_cat_w_intercept.shape[1]-1] = 'Score'"
      ]
    },
    {
      "cell_type": "code",
      "execution_count": 47,
      "metadata": {
        "id": "hQYT7xiolV7s"
      },
      "outputs": [],
      "source": [
        "# Creating dummy variables for score intervals with old (\\\"expected\\\").\"\n",
        "inputs_train_with_ref_cat_w_intercept['Score:300-350'] = np.where((inputs_train_with_ref_cat_w_intercept['Score'] >= 300) & (inputs_train_with_ref_cat_w_intercept['Score'] < 350), 1, 0)\n",
        "inputs_train_with_ref_cat_w_intercept['Score:350-400'] = np.where((inputs_train_with_ref_cat_w_intercept['Score'] >= 350) & (inputs_train_with_ref_cat_w_intercept['Score'] < 400), 1, 0)\n",
        "inputs_train_with_ref_cat_w_intercept['Score:400-450'] = np.where((inputs_train_with_ref_cat_w_intercept['Score'] >= 400) & (inputs_train_with_ref_cat_w_intercept['Score'] < 450), 1, 0)\n",
        "inputs_train_with_ref_cat_w_intercept['Score:450-500'] = np.where((inputs_train_with_ref_cat_w_intercept['Score'] >= 450) & (inputs_train_with_ref_cat_w_intercept['Score'] < 500), 1, 0)\n",
        "inputs_train_with_ref_cat_w_intercept['Score:500-550'] = np.where((inputs_train_with_ref_cat_w_intercept['Score'] >= 500) & (inputs_train_with_ref_cat_w_intercept['Score'] < 550), 1, 0)\n",
        "inputs_train_with_ref_cat_w_intercept['Score:550-600'] = np.where((inputs_train_with_ref_cat_w_intercept['Score'] >= 550) & (inputs_train_with_ref_cat_w_intercept['Score'] < 600), 1, 0)\n",
        "inputs_train_with_ref_cat_w_intercept['Score:600-650'] = np.where((inputs_train_with_ref_cat_w_intercept['Score'] >= 600) & (inputs_train_with_ref_cat_w_intercept['Score'] < 650), 1, 0)\n",
        "inputs_train_with_ref_cat_w_intercept['Score:650-700'] = np.where((inputs_train_with_ref_cat_w_intercept['Score'] >= 650) & (inputs_train_with_ref_cat_w_intercept['Score'] < 700), 1, 0)\n",
        "inputs_train_with_ref_cat_w_intercept['Score:700-750'] = np.where((inputs_train_with_ref_cat_w_intercept['Score'] >= 700) & (inputs_train_with_ref_cat_w_intercept['Score'] < 750), 1, 0)\n",
        "inputs_train_with_ref_cat_w_intercept['Score:750-800'] = np.where((inputs_train_with_ref_cat_w_intercept['Score'] >= 750) & (inputs_train_with_ref_cat_w_intercept['Score'] < 800), 1, 0)\n",
        "inputs_train_with_ref_cat_w_intercept['Score:800-850'] = np.where((inputs_train_with_ref_cat_w_intercept['Score'] >= 800) & (inputs_train_with_ref_cat_w_intercept['Score'] <= 850), 1, 0)\n"
      ]
    },
    {
      "cell_type": "code",
      "execution_count": 48,
      "metadata": {
        "id": "RZKzbk2ulVzx"
      },
      "outputs": [],
      "source": [
        "# Creating dummy variables for score intervals with new (\\\"actual\\\").\n",
        "inputs_2015_with_ref_cat_w_intercept['Score:300-350'] = np.where((inputs_2015_with_ref_cat_w_intercept['Score'] >= 300) & (inputs_2015_with_ref_cat_w_intercept['Score'] < 350), 1, 0)\n",
        "inputs_2015_with_ref_cat_w_intercept['Score:350-400'] = np.where((inputs_2015_with_ref_cat_w_intercept['Score'] >= 350) & (inputs_2015_with_ref_cat_w_intercept['Score'] < 400), 1, 0)\n",
        "inputs_2015_with_ref_cat_w_intercept['Score:400-450'] = np.where((inputs_2015_with_ref_cat_w_intercept['Score'] >= 400) & (inputs_2015_with_ref_cat_w_intercept['Score'] < 450), 1, 0)\n",
        "inputs_2015_with_ref_cat_w_intercept['Score:450-500'] = np.where((inputs_2015_with_ref_cat_w_intercept['Score'] >= 450) & (inputs_2015_with_ref_cat_w_intercept['Score'] < 500), 1, 0)\n",
        "inputs_2015_with_ref_cat_w_intercept['Score:500-550'] = np.where((inputs_2015_with_ref_cat_w_intercept['Score'] >= 500) & (inputs_2015_with_ref_cat_w_intercept['Score'] < 550), 1, 0)\n",
        "inputs_2015_with_ref_cat_w_intercept['Score:550-600'] = np.where((inputs_2015_with_ref_cat_w_intercept['Score'] >= 550) & (inputs_2015_with_ref_cat_w_intercept['Score'] < 600), 1, 0)\n",
        "inputs_2015_with_ref_cat_w_intercept['Score:600-650'] = np.where((inputs_2015_with_ref_cat_w_intercept['Score'] >= 600) & (inputs_2015_with_ref_cat_w_intercept['Score'] < 650), 1, 0)\n",
        "inputs_2015_with_ref_cat_w_intercept['Score:650-700'] = np.where((inputs_2015_with_ref_cat_w_intercept['Score'] >= 650) & (inputs_2015_with_ref_cat_w_intercept['Score'] < 700), 1, 0)\n",
        "inputs_2015_with_ref_cat_w_intercept['Score:700-750'] = np.where((inputs_2015_with_ref_cat_w_intercept['Score'] >= 700) & (inputs_2015_with_ref_cat_w_intercept['Score'] < 750), 1, 0)\n",
        "inputs_2015_with_ref_cat_w_intercept['Score:750-800'] = np.where((inputs_2015_with_ref_cat_w_intercept['Score'] >= 750) & (inputs_2015_with_ref_cat_w_intercept['Score'] < 800), 1, 0)\n",
        "inputs_2015_with_ref_cat_w_intercept['Score:800-850'] = np.where((inputs_2015_with_ref_cat_w_intercept['Score'] >= 800) & (inputs_2015_with_ref_cat_w_intercept['Score'] <= 850), 1, 0)"
      ]
    },
    {
      "cell_type": "markdown",
      "metadata": {
        "id": "84CAuRk9UpKK"
      },
      "source": [
        "# 4 Population Stability Index\n",
        "\n",
        "It is calculated with the following formula:  \n",
        "PSI = [Proportions w/ new data - Proportions w train data ] x ln (Proportions w/ new data / Proportions w train data)"
      ]
    },
    {
      "cell_type": "code",
      "execution_count": 49,
      "metadata": {
        "id": "TzoDXV6bUj37"
      },
      "outputs": [],
      "source": [
        "# Creating a df with proportions for the old (\\\"expected\\\") data.\n",
        "PSI_calc_train = inputs_train_with_ref_cat_w_intercept.sum() / inputs_train_with_ref_cat_w_intercept.shape[0]\n",
        "# Creating a df with proportions for the new (\\\"actual\\\") data.\n",
        "PSI_calc_2015 = inputs_2015_with_ref_cat_w_intercept.sum() / inputs_2015_with_ref_cat_w_intercept.shape[0]"
      ]
    },
    {
      "cell_type": "code",
      "execution_count": 50,
      "metadata": {
        "id": "h7W5h08MUjw_"
      },
      "outputs": [],
      "source": [
        "# Concating two dfs along the columns.\n",
        "PSI_calc = pd.concat([PSI_calc_train, PSI_calc_2015], axis = 1)"
      ]
    },
    {
      "cell_type": "code",
      "execution_count": 51,
      "metadata": {
        "id": "chTnP6uLU2dJ"
      },
      "outputs": [],
      "source": [
        "# Resetting the index.\n",
        "PSI_calc = PSI_calc.reset_index()\n",
        "# Creating a new column\n",
        "PSI_calc['Original feature name'] = PSI_calc['index'].str.split(':').str[0]\n",
        "# Changing col names of df\n",
        "PSI_calc.columns = ['index', 'Prop_Train', 'Prop_New', 'Orig feature']\n",
        "# Keeping neccessary cols\n",
        "PSI_calc = PSI_calc[np.array(['index', 'Orig feature', 'Prop_Train', 'Prop_New'])]\n",
        "# Removing some rows\n",
        "PSI_calc = PSI_calc[(PSI_calc['index'] != 'Intercept') & (PSI_calc['index'] != 'Score')]"
      ]
    },
    {
      "cell_type": "code",
      "execution_count": null,
      "metadata": {},
      "outputs": [],
      "source": [
        "\n",
        "print(PSI_calc.dtypes)\n"
      ]
    },
    {
      "cell_type": "code",
      "execution_count": 57,
      "metadata": {},
      "outputs": [],
      "source": [
        "# Convert Prop_New to numeric, forcing errors to NaN (useful if there are non-numeric values)\n",
        "PSI_calc['Prop_New'] = pd.to_numeric(PSI_calc['Prop_New'], errors='coerce')\n",
        "\n",
        "# Now perform the PSI calculation\n",
        "epsilon = 1e-10\n",
        "\n",
        "PSI_calc['Contribution'] = np.where(\n",
        "    (PSI_calc['Prop_Train'] == 0) | (PSI_calc['Prop_New'] == 0), \n",
        "    0, \n",
        "    (PSI_calc['Prop_New'] - PSI_calc['Prop_Train']) * np.log(\n",
        "        (PSI_calc['Prop_New'] + epsilon) / (PSI_calc['Prop_Train'] + epsilon)\n",
        "    )\n",
        ")\n"
      ]
    },
    {
      "cell_type": "code",
      "execution_count": null,
      "metadata": {
        "colab": {
          "base_uri": "https://localhost:8080/"
        },
        "id": "2pUQt8chVXYS",
        "outputId": "511104e0-e00a-4cdb-c355-a7ab54118e12"
      },
      "outputs": [],
      "source": [
        "# Calculating contribution of each dummy var to PSI\n",
        "# If props are 0, the contribution is 0,\n",
        "# Otherwise, PSI formula is applied\n",
        "PSI_calc['Contribution'] = np.where((PSI_calc['Prop_Train'] == 0) |\\\n",
        "                                    (PSI_calc['Prop_New'] == 0), 0,\\\n",
        "                                    (PSI_calc['Prop_New'] - PSI_calc['Prop_Train']) * np.log(PSI_calc['Prop_New'] / PSI_calc['Prop_Train']))\n"
      ]
    },
    {
      "cell_type": "code",
      "execution_count": null,
      "metadata": {},
      "outputs": [],
      "source": [
        "\n"
      ]
    },
    {
      "cell_type": "code",
      "execution_count": null,
      "metadata": {},
      "outputs": [],
      "source": [
        "\n"
      ]
    },
    {
      "cell_type": "code",
      "execution_count": null,
      "metadata": {
        "colab": {
          "base_uri": "https://localhost:8080/",
          "height": 1000
        },
        "id": "zxA1JTHDVXJG",
        "outputId": "e7147d6b-0132-483b-9709-fb2968814432"
      },
      "outputs": [],
      "source": [
        "PSI_calc"
      ]
    },
    {
      "cell_type": "code",
      "execution_count": null,
      "metadata": {
        "colab": {
          "base_uri": "https://localhost:8080/"
        },
        "id": "iVrJjgxTVnJo",
        "outputId": "bf5eccfb-cc34-4d2a-fb0b-a9f844b1ce72"
      },
      "outputs": [],
      "source": [
        "# Summing all contributions by original feature name\n",
        "PSI_calc.groupby('Orig feature')['Contribution'].sum()"
      ]
    },
    {
      "cell_type": "markdown",
      "metadata": {
        "id": "LKZfCzAFWwuo"
      },
      "source": [
        "Population Stability Index remains less than 0.25 for most of the categories. \n",
        "It is very high for the initial list status. It would be due to the changement of the population in the new data and the banks' policy about its definition.\n",
        "\n",
        "This project ends up here but the models (PD, LGD, EAD) can be re-trained as shown in notebooks L02 and L03 with more recent data. "
      ]
    },
    {
      "cell_type": "markdown",
      "metadata": {
        "id": "kMk9bzzNVRAl"
      },
      "source": [
        "--- End of Notebook ---\n",
        "# END"
      ]
    },
    {
      "cell_type": "markdown",
      "metadata": {},
      "source": []
    },
    {
      "cell_type": "markdown",
      "metadata": {},
      "source": []
    },
    {
      "cell_type": "markdown",
      "metadata": {},
      "source": []
    },
    {
      "cell_type": "markdown",
      "metadata": {},
      "source": []
    },
    {
      "cell_type": "markdown",
      "metadata": {},
      "source": []
    },
    {
      "cell_type": "markdown",
      "metadata": {},
      "source": []
    },
    {
      "cell_type": "markdown",
      "metadata": {},
      "source": []
    },
    {
      "cell_type": "markdown",
      "metadata": {},
      "source": []
    },
    {
      "cell_type": "markdown",
      "metadata": {},
      "source": []
    },
    {
      "cell_type": "markdown",
      "metadata": {},
      "source": []
    },
    {
      "cell_type": "markdown",
      "metadata": {},
      "source": []
    },
    {
      "cell_type": "markdown",
      "metadata": {},
      "source": []
    },
    {
      "cell_type": "markdown",
      "metadata": {},
      "source": []
    },
    {
      "cell_type": "markdown",
      "metadata": {},
      "source": []
    },
    {
      "cell_type": "markdown",
      "metadata": {},
      "source": []
    },
    {
      "cell_type": "markdown",
      "metadata": {},
      "source": []
    },
    {
      "cell_type": "markdown",
      "metadata": {},
      "source": []
    },
    {
      "cell_type": "markdown",
      "metadata": {},
      "source": []
    },
    {
      "cell_type": "markdown",
      "metadata": {},
      "source": []
    },
    {
      "cell_type": "markdown",
      "metadata": {},
      "source": []
    },
    {
      "cell_type": "markdown",
      "metadata": {},
      "source": []
    },
    {
      "cell_type": "markdown",
      "metadata": {},
      "source": []
    }
  ],
  "metadata": {
    "colab": {
      "collapsed_sections": [
        "CHheM9EjLjXs",
        "W6jb-_t7Pbgd"
      ],
      "provenance": [],
      "toc_visible": true
    },
    "kernelspec": {
      "display_name": "myenv",
      "language": "python",
      "name": "python3"
    },
    "language_info": {
      "codemirror_mode": {
        "name": "ipython",
        "version": 3
      },
      "file_extension": ".py",
      "mimetype": "text/x-python",
      "name": "python",
      "nbconvert_exporter": "python",
      "pygments_lexer": "ipython3",
      "version": "3.9.21"
    }
  },
  "nbformat": 4,
  "nbformat_minor": 0
}
