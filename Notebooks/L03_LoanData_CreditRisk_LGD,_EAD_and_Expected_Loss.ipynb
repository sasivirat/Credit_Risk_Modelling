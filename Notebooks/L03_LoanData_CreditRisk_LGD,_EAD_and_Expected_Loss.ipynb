{
  "cells": [
    {
      "cell_type": "markdown",
      "metadata": {
        "id": "LgXHo67lZeFx"
      },
      "source": [
        "# Credit Risk Modeling | Part 3: Loss Given Default, Exposure at Default and Expected Loss\n",
        "\n",
        "\n",
        "**Loss given default (LGD)**  \n",
        "\n",
        "LGD is the amount outstanding we expect to lose. It is a proportion of the total exposure when borrower defaults. It is a percentage of total exposure at the time of default or a single dollar value of potential loss. It is calculated by (1 - Recovery Rate). \n",
        "\n",
        "**Exposure at default (EAD)**  \n",
        "\n",
        "EAD is the predicted amount of loss a bank is exposed to.  \n",
        "\n",
        "**Expected Loss**  \n",
        "\n",
        "EL =  PD x EAD  x LGD\n",
        "\n"
      ]
    },
    {
      "cell_type": "markdown",
      "metadata": {
        "id": "1dwhNLue83Yk"
      },
      "source": [
        "# 1 Data Preparation"
      ]
    },
    {
      "cell_type": "markdown",
      "metadata": {
        "id": "KyZ92MJsOmjj"
      },
      "source": [
        "## a Import Libraries\n",
        "\n",
        "\n",
        "\n",
        "\n"
      ]
    },
    {
      "cell_type": "code",
      "execution_count": null,
      "metadata": {
        "colab": {
          "base_uri": "https://localhost:8080/"
        },
        "id": "wbPSxQTlQaWu",
        "outputId": "e2ea31b0-1536-4eec-b8f4-00753799554b"
      },
      "outputs": [],
      "source": [
        "#installing gdown package to download dataset stored in G Drive\n",
        "!pip install gdown\n",
        "\n",
        "# to upgrade\n",
        "!pip install --upgrade gdown"
      ]
    },
    {
      "cell_type": "code",
      "execution_count": 2,
      "metadata": {
        "id": "TxipeE9VOmju"
      },
      "outputs": [],
      "source": [
        "import numpy as np\n",
        "import pandas as pd\n",
        "\n",
        "#libs for plotting\n",
        "import matplotlib.pyplot as plt\n",
        "import seaborn as sns\n",
        "sns.set()\n",
        "\n",
        "#ML model\n",
        "from sklearn.model_selection import train_test_split\n",
        "from sklearn import linear_model\n",
        "from sklearn.metrics import roc_curve, roc_auc_score\n",
        "\n",
        "import scipy.stats as stat\n",
        "\n",
        "#exporting ML model\n",
        "import pickle\n",
        "\n",
        "#lib to download dataset on g drive\n",
        "import gdown\n",
        "\n",
        "#setting display option max rows\n",
        "#pd.options.display.max_rows = None"
      ]
    },
    {
      "cell_type": "markdown",
      "metadata": {
        "id": "FKX0JRBQOmjy"
      },
      "source": [
        "## b Import Data\n",
        "\n",
        "Please note that if you have already run the first notebook of this series, you don't need to run the codes below and so download the data sets."
      ]
    },
    {
      "cell_type": "code",
      "execution_count": null,
      "metadata": {
        "colab": {
          "base_uri": "https://localhost:8080/"
        },
        "id": "3ppaGS83Po_1",
        "outputId": "118a44b7-17de-49a8-d05a-4d7213211885"
      },
      "outputs": [],
      "source": [
        "# # 1st file\n",
        "# url = \"https://drive.google.com/file/d/1v45P0HhUxZ1x4HmD0bWblpUyUWuiC0_5/view?usp=share_link\"\n",
        "# output = \"loan_data_inputs_train.csv\"\n",
        "# g_down (url,output)\n",
        "\n",
        "# # 2nd file\n",
        "# url = \"https://drive.google.com/file/d/1KvP7EXfVNdekotGFqgp9UUlNXBLCKy9i/view?usp=share_link\"\n",
        "# output = \"loan_data_targets_train.csv\"\n",
        "# g_down (url,output)"
      ]
    },
    {
      "cell_type": "code",
      "execution_count": null,
      "metadata": {
        "colab": {
          "base_uri": "https://localhost:8080/"
        },
        "id": "xA4nQaqOTqFS",
        "outputId": "561513b1-8f5e-4097-bce5-ccee8dbb13d4"
      },
      "outputs": [],
      "source": [
        "\n",
        "# # 3rd file\n",
        "# url = \"https://drive.google.com/file/d/1M-VHZM612ihx-elO6dw3SVYJh0cWD5E6/view?usp=share_link\"\n",
        "# output = \"loan_data_inputs_test.csv\"\n",
        "# g_down (url,output)\n",
        "\n",
        "# # 4th file\n",
        "# url = \"https://drive.google.com/file/d/1wTkfTDyCxcMcddsz-Fk-AO_Y6owLhzWp/view?usp=share_link\"\n",
        "# output = \"loan_data_targets_test.csv\"\n",
        "# g_down (url,output)\n"
      ]
    },
    {
      "cell_type": "code",
      "execution_count": 6,
      "metadata": {
        "id": "fIUclm0yS_nT"
      },
      "outputs": [],
      "source": [
        "# #import data\n",
        "# df1 = pd.read_csv(\"loan_data_inputs_train.csv\", index_col = 0)\n",
        "# df2 = pd.read_csv(\"loan_data_inputs_test.csv\", index_col = 0)\n",
        "# loan_data_preprocessed  = pd.concat([df1,df2],axis=0) #'loan_data_2007_2014_preprocessed.csv')\n",
        "# df1, df2 = [], [] #deleting the df s that use a large amount of ram source"
      ]
    },
    {
      "cell_type": "markdown",
      "metadata": {
        "id": "XrTAFCnJOmj1"
      },
      "source": [
        "## c Filtering defaulted account data"
      ]
    },
    {
      "cell_type": "code",
      "execution_count": 7,
      "metadata": {
        "id": "o7r3Xq1zOmj-"
      },
      "outputs": [],
      "source": [
        "# We only need the data on the accounts that were charged-off (written-off).\n",
        "loan_data_defaults = loan_data_preprocessed[loan_data_preprocessed['loan_status'].\\\n",
        "                                            isin(['Charged Off','Does not meet the credit policy. Status:Charged Off'])]"
      ]
    },
    {
      "cell_type": "code",
      "execution_count": null,
      "metadata": {
        "colab": {
          "base_uri": "https://localhost:8080/"
        },
        "id": "f1Szy2OIOmkA",
        "outputId": "06aba8bb-7d6d-4837-d7e7-b754fadeaf9f",
        "scrolled": false
      },
      "outputs": [],
      "source": [
        "loan_data_defaults.shape"
      ]
    },
    {
      "cell_type": "markdown",
      "metadata": {
        "id": "KI8PkpTGOmkE"
      },
      "source": [
        "##d Independent Variables"
      ]
    },
    {
      "cell_type": "code",
      "execution_count": null,
      "metadata": {
        "colab": {
          "base_uri": "https://localhost:8080/"
        },
        "id": "cPrWm2gdOmkF",
        "outputId": "6cb43ca9-b922-4223-9763-4e594a9937dc",
        "scrolled": true
      },
      "outputs": [],
      "source": [
        "# Let's fill missing values with zeroes.\n",
        "loan_data_defaults['mths_since_last_delinq'].fillna(0, inplace = True)"
      ]
    },
    {
      "cell_type": "code",
      "execution_count": 10,
      "metadata": {
        "id": "yZ4VMa_uOmkG"
      },
      "outputs": [],
      "source": [
        "# Let's fill the missing values with zeroes.\n",
        "loan_data_defaults['mths_since_last_record'].fillna(0, inplace=True)"
      ]
    },
    {
      "cell_type": "markdown",
      "metadata": {
        "id": "q9hdYdMwRuOJ"
      },
      "source": [
        "## e Dependent Variables"
      ]
    },
    {
      "cell_type": "markdown",
      "metadata": {
        "id": "LEMJzsXFhiwl"
      },
      "source": [
        "### i- Recovery rate"
      ]
    },
    {
      "cell_type": "code",
      "execution_count": null,
      "metadata": {
        "colab": {
          "base_uri": "https://localhost:8080/"
        },
        "id": "ew9njkbVRuOK",
        "outputId": "513fea4f-f558-488c-9ce6-b974175f32be",
        "scrolled": true
      },
      "outputs": [],
      "source": [
        "# For the LGD model, We need to calculate the dependent variable recovery rate.\n",
        "# It is the ratio of recoveries and funded amount.\n",
        "loan_data_defaults['recovery_rate'] = loan_data_defaults['recoveries'] / loan_data_defaults['funded_amnt']"
      ]
    },
    {
      "cell_type": "code",
      "execution_count": null,
      "metadata": {
        "colab": {
          "base_uri": "https://localhost:8080/"
        },
        "id": "yK1LTEHsRuOM",
        "outputId": "4bbfd577-0c1c-472c-f79e-78d45fda9ac6"
      },
      "outputs": [],
      "source": [
        "# Let's check out some descriptive statisics for the values of a column.\n",
        "loan_data_defaults['recovery_rate'].describe()"
      ]
    },
    {
      "cell_type": "code",
      "execution_count": null,
      "metadata": {
        "colab": {
          "base_uri": "https://localhost:8080/"
        },
        "id": "YwOuB4fyRuOQ",
        "outputId": "f5408a72-22c4-4b6e-c296-af1559165cec"
      },
      "outputs": [],
      "source": [
        "# We have some recovery rate data > 1.0.\n",
        "# We need to set recovery rates that are greater than 1 to 1 \n",
        "loan_data_defaults['recovery_rate'] = np.where(loan_data_defaults['recovery_rate'] > 1, 1, loan_data_defaults['recovery_rate'])\n",
        "# We need to set recovery rates that are less than 0 to 0. (this part is kept for a future dataset)\n",
        "loan_data_defaults['recovery_rate'] = np.where(loan_data_defaults['recovery_rate'] < 0, 0, loan_data_defaults['recovery_rate'])\n"
      ]
    },
    {
      "cell_type": "code",
      "execution_count": null,
      "metadata": {
        "colab": {
          "base_uri": "https://localhost:8080/"
        },
        "id": "DOKEPqT7RuOU",
        "outputId": "2748cae2-2724-4bcd-bcf9-0821ce677920"
      },
      "outputs": [],
      "source": [
        "#let's check if all is good after data cleaning\n",
        "loan_data_defaults['recovery_rate'].describe()"
      ]
    },
    {
      "cell_type": "markdown",
      "metadata": {
        "id": "MIOrzOYRheSr"
      },
      "source": [
        "### ii- CCF"
      ]
    },
    {
      "cell_type": "code",
      "execution_count": null,
      "metadata": {
        "colab": {
          "base_uri": "https://localhost:8080/"
        },
        "id": "ye_dyYmLRuOW",
        "outputId": "84d4a8f5-8f14-4201-a225-cf400cae6c5f"
      },
      "outputs": [],
      "source": [
        "# let's calculate the dependent variable for the EAD model: credit conversion factor.\n",
        "# It is the ratio of the difference of the amount used at the moment of default to the total funded amount.\n",
        "loan_data_defaults['CCF'] = (loan_data_defaults['funded_amnt'] - \\\n",
        "                             loan_data_defaults['total_rec_prncp']) / loan_data_defaults['funded_amnt']\n"
      ]
    },
    {
      "cell_type": "code",
      "execution_count": null,
      "metadata": {
        "colab": {
          "base_uri": "https://localhost:8080/"
        },
        "id": "FutqPuU0RuOX",
        "outputId": "e15f7768-366c-46e9-c794-71b0dd702e21"
      },
      "outputs": [],
      "source": [
        "loan_data_defaults['CCF'].describe()\n",
        "# Shows some descriptive statisics for the values of a column."
      ]
    },
    {
      "cell_type": "code",
      "execution_count": 16,
      "metadata": {
        "id": "BCFx-5qRjSll"
      },
      "outputs": [],
      "source": []
    },
    {
      "cell_type": "code",
      "execution_count": null,
      "metadata": {
        "colab": {
          "base_uri": "https://localhost:8080/",
          "height": 772
        },
        "id": "Fw18inl1UM9_",
        "outputId": "e5fd09df-6d01-4365-f922-e366d6abaf57"
      },
      "outputs": [],
      "source": [
        "# Plotting a histogram of CCF\n",
        "plt.hist(loan_data_defaults['CCF'], bins = 75)"
      ]
    },
    {
      "cell_type": "code",
      "execution_count": null,
      "metadata": {
        "colab": {
          "base_uri": "https://localhost:8080/"
        },
        "id": "R0VTnrgnjUaV",
        "outputId": "1bc2aa98-a615-4f20-c6bc-ba3beb91013f"
      },
      "outputs": [],
      "source": [
        "# Creating a new variable showing 0 for recovery rate being 0 and 1 otherwise.\n",
        "loan_data_defaults['recovery_rate_0_1'] = np.where(loan_data_defaults['recovery_rate'] == 0, 0, 1)"
      ]
    },
    {
      "cell_type": "markdown",
      "metadata": {
        "id": "NN3AJ7ZjUM99"
      },
      "source": [
        "## f Exporting data"
      ]
    },
    {
      "cell_type": "code",
      "execution_count": 19,
      "metadata": {
        "id": "vKe7ycwUUM-A"
      },
      "outputs": [],
      "source": [
        "#saving the data in a csv file\n",
        "loan_data_defaults.to_csv('../data/loan_data_defaults.csv')"
      ]
    },
    {
      "cell_type": "markdown",
      "metadata": {
        "id": "2vV9wtKscC90"
      },
      "source": [
        "#2 LGD Model\n",
        "\n",
        "LGD is the amount outstanding we expect to lose. It is a proportion of the total exposure when borrower defaults. It is a percentage of total exposure at the time of default or a single dollar value of potential loss. It is calculated by (1 - Recovery Rate). \n",
        "\n",
        "The model will be created in two steps:\n",
        "*  Step 1- recovery rate is equal to/greater than 0\n",
        "\n",
        "*  Step 2- recovery rate is equal to/greater than 1"
      ]
    },
    {
      "cell_type": "markdown",
      "metadata": {
        "id": "rfLYqp1LcC91"
      },
      "source": [
        "### a Step 1 --- Logistic Regression"
      ]
    },
    {
      "cell_type": "code",
      "execution_count": 20,
      "metadata": {
        "id": "OeBuYCbey5uX"
      },
      "outputs": [],
      "source": [
        "# LGD model step 1 datasets: recovery rate 0 or greater than 0.\n",
        "# Considering a set of inputs [all cols except recovery rate and CCF] and outputs[recovery_rate_0_1]. Splits the inputs and the targets into four dataframes:\n",
        "# Inputs - Train n Test, Targets - Train n Test\n",
        "lgd_X_S1 = loan_data_defaults.drop([ 'recovery_rate','recovery_rate_0_1', 'CCF'], axis = 1)\n",
        "lgs_Y_S1 = loan_data_defaults['recovery_rate_0_1']\n",
        "\n",
        "lgd_X_S1_train, lgd_X_S1_test, lgd_Y_S1_train, lgd_Y_S1_test = train_test_split(lgd_X_S1, lgs_Y_S1, test_size = 0.2, random_state = 42)"
      ]
    },
    {
      "cell_type": "code",
      "execution_count": 21,
      "metadata": {
        "id": "60ouR-X-cC92"
      },
      "outputs": [],
      "source": [
        "# List of all X variables for the models.\n",
        "features_all = ['grade:A',\n",
        "'grade:B',\n",
        "'grade:C',\n",
        "'grade:D',\n",
        "'grade:E',\n",
        "'grade:F',\n",
        "'grade:G',\n",
        "'home_ownership:MORTGAGE',\n",
        "'home_ownership:NONE',\n",
        "'home_ownership:OTHER',\n",
        "'home_ownership:OWN',\n",
        "'home_ownership:RENT',\n",
        "'verification_status:Not Verified',\n",
        "'verification_status:Source Verified',\n",
        "'verification_status:Verified',\n",
        "'purpose:car',\n",
        "'purpose:credit_card',\n",
        "'purpose:debt_consolidation',\n",
        "'purpose:educational',\n",
        "'purpose:home_improvement',\n",
        "'purpose:house',\n",
        "'purpose:major_purchase',\n",
        "'purpose:medical',\n",
        "'purpose:moving',\n",
        "'purpose:other',\n",
        "'purpose:renewable_energy',\n",
        "'purpose:small_business',\n",
        "'purpose:vacation',\n",
        "'purpose:wedding',\n",
        "'initial_list_status:f',\n",
        "'initial_list_status:w',\n",
        "'term_int',\n",
        "'emp_length_int',\n",
        "'mths_since_issue_d',\n",
        "'mths_since_earliest_cr_line',\n",
        "'funded_amnt',\n",
        "'int_rate',\n",
        "'installment',\n",
        "'annual_inc',\n",
        "'dti',\n",
        "'delinq_2yrs',\n",
        "'inq_last_6mths',\n",
        "'mths_since_last_delinq',\n",
        "'mths_since_last_record',\n",
        "'open_acc',\n",
        "'pub_rec',\n",
        "'total_acc',\n",
        "'acc_now_delinq',\n",
        "'total_rev_hi_lim']"
      ]
    },
    {
      "cell_type": "code",
      "execution_count": 22,
      "metadata": {
        "id": "awo_k4xpcC93"
      },
      "outputs": [],
      "source": [
        "# List of the dummy X variables, avoiding dummy trick reference categories. \n",
        "features_reference_cat = ['grade:G',\n",
        "'home_ownership:RENT',\n",
        "'verification_status:Verified',\n",
        "'purpose:credit_card',\n",
        "'initial_list_status:f']\n"
      ]
    },
    {
      "cell_type": "code",
      "execution_count": 23,
      "metadata": {
        "id": "GDPIid8ZcC93"
      },
      "outputs": [],
      "source": [
        "# Here we keep only the variables we need for the model.\n",
        "lgd_X_S1_train = lgd_X_S1_train[features_all]\n",
        "# Here we remove the dummy variable reference categories.\n",
        "lgd_X_S1_train = lgd_X_S1_train.drop(features_reference_cat, axis = 1)\n"
      ]
    },
    {
      "cell_type": "code",
      "execution_count": null,
      "metadata": {
        "colab": {
          "base_uri": "https://localhost:8080/"
        },
        "id": "IrUqnGy7cC94",
        "outputId": "8fb17d5e-9690-4c34-ecd7-94c2ecbf2585"
      },
      "outputs": [],
      "source": [
        "lgd_X_S1_train.isnull().sum()\n",
        "# Check for missing values. We check whether the value of each row for each column is missing or not,\n",
        "# then sum accross columns."
      ]
    },
    {
      "cell_type": "code",
      "execution_count": null,
      "metadata": {
        "colab": {
          "base_uri": "https://localhost:8080/"
        },
        "id": "TJk21b85cC95",
        "outputId": "dd593ddf-8b03-46ff-d087-d908f0337e98"
      },
      "outputs": [],
      "source": [
        "# We create an instance of an object from the 'LogisticRegression' class.\n",
        "reg_lgd_st_1 = LogisticRegression_with_p_values()\n",
        "\n",
        "# Estimating the coefficients of the object from the 'LogisticRegression' class\n",
        "# with X (independent variables) from the first dataframe\n",
        "# and Y (dependent variables) from the second dataframe.\n",
        "reg_lgd_st_1.fit(lgd_X_S1_train, lgd_Y_S1_train)\n"
      ]
    },
    {
      "cell_type": "code",
      "execution_count": 27,
      "metadata": {
        "id": "MetBXSJFcC96"
      },
      "outputs": [],
      "source": [
        "\n",
        "# Stores the names of the columns of a dataframe in a variable.\n",
        "feature_name = lgd_X_S1_train.columns.values"
      ]
    },
    {
      "cell_type": "code",
      "execution_count": null,
      "metadata": {
        "colab": {
          "base_uri": "https://localhost:8080/",
          "height": 1000
        },
        "id": "9L1ar_RHcC96",
        "outputId": "c2b94768-09e1-491a-ba26-e8abd7487599"
      },
      "outputs": [],
      "source": [
        "# Creating a df with a column 'Feature name' and values of the 'feature_name' variable.\n",
        "summary_table = pd.DataFrame(columns = ['Feature name'], data = feature_name)\n",
        "# Creates a new column called 'Coefficients',\n",
        "# with row values the transposed coefs from the 'LogisticRegression' object.\n",
        "summary_table['Coefficients'] = np.transpose(reg_lgd_st_1.coef_)\n",
        "# Increasing the index of every row of the df with 1.\n",
        "summary_table.index = summary_table.index + 1\n",
        "# Assigning values of the row with index 0 of the df.\n",
        "summary_table.loc[0] = ['Intercept', reg_lgd_st_1.intercept_[0]]\n",
        "# Sorts the df by index.\n",
        "summary_table = summary_table.sort_index()\n",
        "# We take the result of the newly added method 'p_values' and store it in a variable 'p_values'.\n",
        "p_values = reg_lgd_st_1.p_values\n",
        "# We add the value 'NaN' in the beginning of the variable with p-values.\n",
        "p_values = np.append(np.nan,np.array(p_values))\n",
        "# In the 'summary_table' df, we add a new column, called 'p_values', containing the values from the 'p_values' variable.\n",
        "summary_table['p_values'] = p_values\n",
        "\n",
        "summary_table"
      ]
    },
    {
      "cell_type": "markdown",
      "metadata": {
        "id": "_7whUcSqc60Y"
      },
      "source": [
        "### b Step 1 ---Testing the Model"
      ]
    },
    {
      "cell_type": "code",
      "execution_count": 29,
      "metadata": {
        "id": "W1zK3Pc-40gH"
      },
      "outputs": [],
      "source": [
        "# Here we keep only the variables [features_all] that we need for the model.\n",
        "lgd_X_S1_test = lgd_X_S1_test[features_all]\n",
        "# Then we remove the dummy variable reference categories.\n",
        "lgd_X_S1_test = lgd_X_S1_test.drop(features_reference_cat, axis = 1)"
      ]
    },
    {
      "cell_type": "code",
      "execution_count": 30,
      "metadata": {
        "id": "cwHILMm6c60Z"
      },
      "outputs": [],
      "source": [
        "# Calculating the predicted vals for the Y (targets) given X (inputs)\n",
        "y_hat_test_lgd_step_1 = reg_lgd_st_1.model.predict(lgd_X_S1_test)"
      ]
    },
    {
      "cell_type": "code",
      "execution_count": null,
      "metadata": {
        "colab": {
          "base_uri": "https://localhost:8080/"
        },
        "id": "S6UWpWcfc60Z",
        "outputId": "bcf1f7b8-d653-4873-befe-66175a2b35d7"
      },
      "outputs": [],
      "source": [
        "y_hat_test_lgd_step_1"
      ]
    },
    {
      "cell_type": "code",
      "execution_count": 32,
      "metadata": {
        "id": "B9UjF8Zgc60a"
      },
      "outputs": [],
      "source": [
        "# Calculates the predicted probability for Y (targets) given X (inputs)\n",
        "y_hat_test_proba_lgd_step_1 = reg_lgd_st_1.model.predict_proba(lgd_X_S1_test)"
      ]
    },
    {
      "cell_type": "code",
      "execution_count": null,
      "metadata": {
        "colab": {
          "base_uri": "https://localhost:8080/"
        },
        "id": "MMWtKgfTc60a",
        "outputId": "98f7aa66-ff46-4e51-863f-b7ba3407207d"
      },
      "outputs": [],
      "source": [
        "# arrays of predicted class probabilities\n",
        "# first val of arrays  is the probability for the observation belonging to the first class, i.e. 0,\n",
        "# and the second value is the probability for the observation belonging to 1\n",
        "y_hat_test_proba_lgd_step_1"
      ]
    },
    {
      "cell_type": "code",
      "execution_count": 34,
      "metadata": {
        "id": "drqDISx7c60b"
      },
      "outputs": [],
      "source": [
        "# we consider only the probabilities for being 1.\n",
        "y_hat_test_proba_lgd_step_1 = y_hat_test_proba_lgd_step_1[: ][: , 1]"
      ]
    },
    {
      "cell_type": "code",
      "execution_count": null,
      "metadata": {
        "colab": {
          "base_uri": "https://localhost:8080/"
        },
        "id": "yLKc69b3c60b",
        "outputId": "450d838f-6e75-4c54-a89e-9264a9c6b27e"
      },
      "outputs": [],
      "source": [
        "y_hat_test_proba_lgd_step_1"
      ]
    },
    {
      "cell_type": "code",
      "execution_count": 36,
      "metadata": {
        "id": "nyI28lS2c60b"
      },
      "outputs": [],
      "source": [
        "lgd_Y_S1_test_temp = lgd_Y_S1_test"
      ]
    },
    {
      "cell_type": "code",
      "execution_count": 37,
      "metadata": {
        "id": "sXLB3z6Ic60c"
      },
      "outputs": [],
      "source": [
        "# resetting the index of a dataframe.\n",
        "lgd_Y_S1_test_temp.reset_index(drop = True, inplace = True)"
      ]
    },
    {
      "cell_type": "code",
      "execution_count": 38,
      "metadata": {
        "id": "2ut7f9LOc60c"
      },
      "outputs": [],
      "source": [
        "# Concatenating two dataframes.\n",
        "df_actual_predicted_probs = pd.concat([lgd_Y_S1_test_temp, pd.DataFrame(y_hat_test_proba_lgd_step_1)], axis = 1)"
      ]
    },
    {
      "cell_type": "code",
      "execution_count": 39,
      "metadata": {
        "id": "KE1ayp0zc60d"
      },
      "outputs": [],
      "source": [
        "df_actual_predicted_probs.columns = ['lgd_targets_step_1_test', 'y_hat_test_proba_lgd_step_1']"
      ]
    },
    {
      "cell_type": "code",
      "execution_count": 40,
      "metadata": {
        "id": "2578Oya6c60d"
      },
      "outputs": [],
      "source": [
        "# Making the indices eqv to each other\n",
        "df_actual_predicted_probs.index = lgd_X_S1_test.index"
      ]
    },
    {
      "cell_type": "code",
      "execution_count": null,
      "metadata": {
        "colab": {
          "base_uri": "https://localhost:8080/",
          "height": 206
        },
        "id": "53xufvzrc60e",
        "outputId": "e317090a-4ca5-4096-da91-2d9f0a3406f2"
      },
      "outputs": [],
      "source": [
        "df_actual_predicted_probs.head()"
      ]
    },
    {
      "cell_type": "markdown",
      "metadata": {
        "id": "faY3B5Andt5J"
      },
      "source": [
        "### c Step 1 --- Estimating the Аccuracy of the Мodel"
      ]
    },
    {
      "cell_type": "code",
      "execution_count": 42,
      "metadata": {
        "id": "6ivkpi3adt5M"
      },
      "outputs": [],
      "source": [
        "tr = 0.5\n",
        "# Indicator column created to give '1' for the cases where predicted proba is greater than threshold\n",
        "df_actual_predicted_probs['y_hat_test_lgd_step_1'] = np.where(df_actual_predicted_probs['y_hat_test_proba_lgd_step_1'] > tr, 1, 0)"
      ]
    },
    {
      "cell_type": "code",
      "execution_count": null,
      "metadata": {
        "colab": {
          "base_uri": "https://localhost:8080/",
          "height": 144
        },
        "id": "5RQFmB5Udt5N",
        "outputId": "09b8905a-df90-425f-8042-60e6d6eabdd8",
        "scrolled": true
      },
      "outputs": [],
      "source": [
        "# Creating a cross-table, a Confusion Matrix where the actual vals are displayed by rows and the predicted vals by columns.\n",
        "pd.crosstab(df_actual_predicted_probs['lgd_targets_step_1_test'], df_actual_predicted_probs['y_hat_test_lgd_step_1'], rownames = ['Actual'], colnames = ['Predicted'])"
      ]
    },
    {
      "cell_type": "code",
      "execution_count": null,
      "metadata": {
        "colab": {
          "base_uri": "https://localhost:8080/",
          "height": 144
        },
        "id": "QJmYR3SUdt5N",
        "outputId": "cc5f8cf1-4f02-4d4d-ab12-6b49c07ad47a"
      },
      "outputs": [],
      "source": [
        "# Gettign rates by dividing values by the tot number of observations,\n",
        "cmatrix_p = pd.crosstab(df_actual_predicted_probs['lgd_targets_step_1_test'], \\\n",
        "                        df_actual_predicted_probs['y_hat_test_lgd_step_1'], \\\n",
        "                        rownames = ['Actual'], colnames = ['Predicted']) / df_actual_predicted_probs.shape[0]\n",
        "cmatrix_p"
      ]
    },
    {
      "cell_type": "code",
      "execution_count": null,
      "metadata": {
        "colab": {
          "base_uri": "https://localhost:8080/"
        },
        "id": "cotfFv6Tdt5O",
        "outputId": "5be2b8a0-9abc-4ff6-ec19-7344bcea096f"
      },
      "outputs": [],
      "source": [
        "# Calculating accuracy of the model = sum of the diagonal rates.\n",
        "cmatrix_p.iloc[0, 0] + cmatrix_p.iloc[1, 1]"
      ]
    },
    {
      "cell_type": "code",
      "execution_count": 46,
      "metadata": {
        "id": "EguEyDbCdt5P"
      },
      "outputs": [],
      "source": [
        "# Getting Receiver Operating Characteristic (ROC) Curve: the false positive rates, the true positive rates, and the thresholds.\n",
        "fpr, tpr, thresholds = roc_curve(df_actual_predicted_probs['lgd_targets_step_1_test'], df_actual_predicted_probs['y_hat_test_proba_lgd_step_1'])\n"
      ]
    },
    {
      "cell_type": "code",
      "execution_count": null,
      "metadata": {
        "colab": {
          "base_uri": "https://localhost:8080/",
          "height": 318
        },
        "id": "sWbyONMudt5P",
        "outputId": "a98a78f8-9e22-464b-a0ed-69bb499dbe22"
      },
      "outputs": [],
      "source": [
        "# We plot the ROC: false positive rate along the x-axis and the true positive rate along the y-axis,\n",
        "plt.plot(fpr, tpr)\n",
        "plt.plot(fpr, fpr, linestyle = '--', color = 'k')\n",
        "plt.xlabel('False positive rate')\n",
        "plt.ylabel('True positive rate')\n",
        "plt.title('ROC curve')"
      ]
    },
    {
      "cell_type": "code",
      "execution_count": null,
      "metadata": {
        "colab": {
          "base_uri": "https://localhost:8080/"
        },
        "id": "O-Wz3NlMdt5Q",
        "outputId": "7742ab42-bbd6-4dcb-c6a5-9c2bc23b5063"
      },
      "outputs": [],
      "source": [
        "# Calculating the Area Under the Receiver Operating Characteristic Curve (AUROC)\n",
        "AUROC = roc_auc_score(df_actual_predicted_probs['lgd_targets_step_1_test'], df_actual_predicted_probs['y_hat_test_proba_lgd_step_1'])\n",
        "AUROC"
      ]
    },
    {
      "cell_type": "markdown",
      "metadata": {
        "id": "2o7Q6eXew3i0"
      },
      "source": [
        "ROC being 0.64 shows a better performance of 1:1 line, a dummy model of probability of 0.50. We keep the trained model."
      ]
    },
    {
      "cell_type": "markdown",
      "metadata": {
        "id": "kPm097XQeARU"
      },
      "source": [
        "### d Step 1 --- Saving the Model"
      ]
    },
    {
      "cell_type": "code",
      "execution_count": 49,
      "metadata": {
        "id": "FgdIJYEceARU"
      },
      "outputs": [],
      "source": [
        "# Exporting our model to a 'SAV' file\n",
        "pickle.dump(reg_lgd_st_1, open('../models/lgd_model_step_1.sav', 'wb'))"
      ]
    },
    {
      "cell_type": "markdown",
      "metadata": {
        "id": "cT82crh6eOBR"
      },
      "source": [
        "### e Step 2 --- Linear Regression"
      ]
    },
    {
      "cell_type": "code",
      "execution_count": 50,
      "metadata": {
        "id": "-3I9WhyheOBR"
      },
      "outputs": [],
      "source": [
        "# Here we take only rows where the original recovery rate variable is greater than one,\n",
        "# i.e. where the indicator variable we created is equal to 1.\n",
        "lgd_step_2_data = loan_data_defaults[loan_data_defaults['recovery_rate_0_1'] == 1]"
      ]
    },
    {
      "cell_type": "code",
      "execution_count": 51,
      "metadata": {
        "id": "qipydKn6eOBR"
      },
      "outputs": [],
      "source": [
        "# LGD model stage 2 datasets: how much more than 0 is the recovery rate\n",
        "lgd_X_S2 = lgd_step_2_data.drop([ 'recovery_rate','recovery_rate_0_1', 'CCF'], axis = 1)\n",
        "lgd_Y_S2 = lgd_step_2_data['recovery_rate']\n",
        "# splitting Inputs - Train + Test and  Targets - Train + Test.\n",
        "lgd_X_S2_train, lgd_X_S2_test, lgd_Y_S2_train, lgd_Y_S2_test = train_test_split(lgd_X_S2, lgd_Y_S2, test_size = 0.2, random_state = 42)\n",
        "# freeing the memory used by following arrays\n",
        "lgd_x_S2, lgd_Y_S2  = [],[]"
      ]
    },
    {
      "cell_type": "code",
      "execution_count": 53,
      "metadata": {
        "id": "Q4uyqt-GeOBU"
      },
      "outputs": [],
      "source": [
        "# keeping the variables needed for the model.\n",
        "lgd_X_S2_train = lgd_X_S2_train[features_all]\n",
        "# removing the dummy variable reference categories.\n",
        "lgd_X_S2_train = lgd_X_S2_train.drop(features_reference_cat, axis = 1)"
      ]
    },
    {
      "cell_type": "code",
      "execution_count": null,
      "metadata": {
        "colab": {
          "base_uri": "https://localhost:8080/"
        },
        "id": "gmjq-4bmeOBV",
        "outputId": "4b788b0f-f612-4ff1-c6ab-426b7de458e6"
      },
      "outputs": [],
      "source": [
        "# creating an instance of an object from the 'LogisticRegression' class.\n",
        "reg_lgd_st_2 = LinearRegression()\n",
        "# Estimating the coeffs w X_train and Y_train\n",
        "reg_lgd_st_2.fit(lgd_X_S2_train, lgd_Y_S2_train)"
      ]
    },
    {
      "cell_type": "code",
      "execution_count": 55,
      "metadata": {
        "id": "lqB18L5weOBV"
      },
      "outputs": [],
      "source": [
        "# Storing the names of the columns\n",
        "feature_name = lgd_X_S2_train.columns.values"
      ]
    },
    {
      "cell_type": "code",
      "execution_count": null,
      "metadata": {
        "colab": {
          "base_uri": "https://localhost:8080/",
          "height": 1000
        },
        "id": "LHaw9ALbeOBW",
        "outputId": "eaa0e29d-29bb-450c-cbe1-3fda894034a9"
      },
      "outputs": [],
      "source": [
        "# Creating a df with a column 'Feature name' and vals in 'feature_name'\n",
        "summary_table = pd.DataFrame(columns = ['Feature name'], data = feature_name)\n",
        "# Creating a new column 'Coefficients' w row values the transposed coefficients from the 'LogisticRegression' object.\n",
        "summary_table['Coefficients'] = np.transpose(reg_lgd_st_2.coef_)\n",
        "# Increasing the index of every row of the dataframe with 1.\n",
        "summary_table.index = summary_table.index + 1\n",
        "# Assigning values of the row with index 0 of the dataframe.\n",
        "summary_table.loc[0] = ['Intercept', reg_lgd_st_2.intercept_]\n",
        "# Sorting the dataframe by index.\n",
        "summary_table = summary_table.sort_index()\n",
        "# Taking the result of the newly added method 'p_values' and store it in a variable 'p_values'.\n",
        "p_values = reg_lgd_st_2.p\n",
        "# Adding the value 'NaN' in the beginning of the variable with p-values.\n",
        "p_values = np.append(np.nan,np.array(p_values))\n",
        "# Adding a column of 'p_values', containing the values\n",
        "summary_table['p_values'] = p_values.round(3)\n",
        "\n",
        "summary_table"
      ]
    },
    {
      "cell_type": "markdown",
      "metadata": {
        "id": "CY6bQMsnf3tH"
      },
      "source": [
        "### f Step 2 --- Model Evaluation"
      ]
    },
    {
      "cell_type": "code",
      "execution_count": 57,
      "metadata": {
        "id": "HwHGz2lZf3tI"
      },
      "outputs": [],
      "source": [
        "# keeping the variables needed\n",
        "lgd_X_S2_test = lgd_X_S2_test[features_all]"
      ]
    },
    {
      "cell_type": "code",
      "execution_count": 58,
      "metadata": {
        "id": "YyWlq5nWf3tI"
      },
      "outputs": [],
      "source": [
        "# Removing the dummy variable reference categories.\n",
        "lgd_X_S2_test = lgd_X_S2_test.drop(features_reference_cat, axis = 1)"
      ]
    },
    {
      "cell_type": "code",
      "execution_count": null,
      "metadata": {
        "colab": {
          "base_uri": "https://localhost:8080/"
        },
        "id": "_EiUx0XUf3tI",
        "outputId": "785b104c-22d5-4c1e-d38c-4098d2458140"
      },
      "outputs": [],
      "source": [
        "# Calculating the predicted vals for Y given X\n",
        "lgd_X_S2_test.columns.values"
      ]
    },
    {
      "cell_type": "code",
      "execution_count": 60,
      "metadata": {
        "id": "0v-8XELmf3tJ"
      },
      "outputs": [],
      "source": [
        "# Predicting Y given X\n",
        "y_hat_test_lgd_step_2 = reg_lgd_st_2.predict(lgd_X_S2_test)"
      ]
    },
    {
      "cell_type": "code",
      "execution_count": 61,
      "metadata": {
        "id": "J6JMQ4Onf3tJ"
      },
      "outputs": [],
      "source": [
        "lgd_Y_S2_test_temp = lgd_Y_S2_test"
      ]
    },
    {
      "cell_type": "code",
      "execution_count": 62,
      "metadata": {
        "id": "IHyvYFx8f3tK"
      },
      "outputs": [],
      "source": [
        "# Resetting the index of a dataframe.\n",
        "lgd_Y_S2_test_temp = lgd_Y_S2_test_temp.reset_index(drop = True)\n"
      ]
    },
    {
      "cell_type": "code",
      "execution_count": null,
      "metadata": {
        "colab": {
          "base_uri": "https://localhost:8080/",
          "height": 112
        },
        "id": "JGD8fBaHf3tK",
        "outputId": "c2ec9cde-6c59-4637-f5cd-e5519315090d"
      },
      "outputs": [],
      "source": [
        "# Calculating the correlation between actual and predicted values.\n",
        "pd.concat([lgd_Y_S2_test_temp, pd.DataFrame(y_hat_test_lgd_step_2)], axis = 1).corr()\n"
      ]
    },
    {
      "cell_type": "code",
      "execution_count": null,
      "metadata": {
        "colab": {
          "base_uri": "https://localhost:8080/",
          "height": 357
        },
        "id": "iX_rKZW3f3tK",
        "outputId": "1a0c1bb3-bbf4-4045-8b71-647dad1fb963",
        "scrolled": true
      },
      "outputs": [],
      "source": [
        "# Plotting the distribution of the residuals.\n",
        "sns.distplot(lgd_Y_S2_test_temp - y_hat_test_lgd_step_2)\n"
      ]
    },
    {
      "cell_type": "code",
      "execution_count": 65,
      "metadata": {
        "id": "1wbN0o9kf3tL"
      },
      "outputs": [],
      "source": [
        "# Here we export our model\n",
        "pickle.dump(reg_lgd_st_2, open('../models/lgd_model_step_2.sav', 'wb'))\n"
      ]
    },
    {
      "cell_type": "markdown",
      "metadata": {
        "id": "t4mNv7kBf3tL"
      },
      "source": [
        "### g Combining Steps 1 & 2"
      ]
    },
    {
      "cell_type": "code",
      "execution_count": 66,
      "metadata": {
        "id": "L5zyuJnbf3tL"
      },
      "outputs": [],
      "source": [
        "y_hat_test_lgd_step_2_all = reg_lgd_st_2.predict(lgd_X_S1_test)"
      ]
    },
    {
      "cell_type": "code",
      "execution_count": null,
      "metadata": {
        "colab": {
          "base_uri": "https://localhost:8080/"
        },
        "id": "YlterPb7f3tM",
        "outputId": "5111d43c-91cc-4bdf-e54a-c02a13fb4285"
      },
      "outputs": [],
      "source": [
        "y_hat_test_lgd_step_2_all"
      ]
    },
    {
      "cell_type": "code",
      "execution_count": 68,
      "metadata": {
        "id": "yDoLGDEbf3tM"
      },
      "outputs": [],
      "source": [
        "# combining the predictions of the models from the two steps.y_hat_test_proba_lgd_step_1\n",
        "y_hat_test_lgd = y_hat_test_lgd_step_1 * y_hat_test_lgd_step_2_all "
      ]
    },
    {
      "cell_type": "code",
      "execution_count": null,
      "metadata": {
        "colab": {
          "base_uri": "https://localhost:8080/",
          "height": 300
        },
        "id": "wvSZhFZIf3tN",
        "outputId": "1ef5dffa-0a95-4057-a62a-b85aa3bf8286"
      },
      "outputs": [],
      "source": [
        "# Showing descriptive stats \n",
        "pd.DataFrame(y_hat_test_lgd).describe()\n"
      ]
    },
    {
      "cell_type": "code",
      "execution_count": 70,
      "metadata": {
        "id": "jjJ8h5Jyf3tN"
      },
      "outputs": [],
      "source": [
        "y_hat_test_lgd = np.where(y_hat_test_lgd < 0, 0, y_hat_test_lgd)\n",
        "y_hat_test_lgd = np.where(y_hat_test_lgd > 1, 1, y_hat_test_lgd)\n",
        "# We set predicted values that are greater than 1 to 1 and predicted values that are less than 0 to 0."
      ]
    },
    {
      "cell_type": "code",
      "execution_count": null,
      "metadata": {
        "colab": {
          "base_uri": "https://localhost:8080/",
          "height": 300
        },
        "id": "gOsejnVXf3tO",
        "outputId": "bc852629-5591-4df9-9ad3-269d4abba025"
      },
      "outputs": [],
      "source": [
        "pd.DataFrame(y_hat_test_lgd).describe()\n",
        "# Shows some descriptive statisics for the values of a column."
      ]
    },
    {
      "cell_type": "markdown",
      "metadata": {
        "id": "sH5OWVkQ5f0A"
      },
      "source": [
        "#3 EAD Model\n",
        "\n",
        "Exposure at default (EAD)\n",
        "\n",
        "EAD is the predicted amount of loss a bank is exposed to."
      ]
    },
    {
      "cell_type": "markdown",
      "metadata": {
        "id": "bBsgDjSn5f0B"
      },
      "source": [
        "### a Linear modeling and interpreation"
      ]
    },
    {
      "cell_type": "code",
      "execution_count": 72,
      "metadata": {
        "id": "RlOGOzTO5f0F"
      },
      "outputs": [],
      "source": [
        "# EAD model datasets\n",
        "# Splitting into Inputs - Train n Test, Targets - Train n Test.\n",
        "ead_X = loan_data_defaults.drop([ 'recovery_rate','recovery_rate_0_1', 'CCF'], axis = 1)\n",
        "ead_Y = loan_data_defaults['CCF']\n",
        "ead_X_train, ead_X_test, ead_Y_train, ead_Y_test = train_test_split(ead_X, ead_Y, test_size = 0.2, random_state = 42)\n",
        "ead_X, ead_Y = [],[]"
      ]
    },
    {
      "cell_type": "code",
      "execution_count": null,
      "metadata": {
        "colab": {
          "base_uri": "https://localhost:8080/"
        },
        "id": "9bPzSrQS5f0F",
        "outputId": "56161cab-c639-40f7-bd0e-5338ce2a2330"
      },
      "outputs": [],
      "source": [
        "ead_X_train.columns.values"
      ]
    },
    {
      "cell_type": "code",
      "execution_count": 74,
      "metadata": {
        "id": "bt0NbA-D5f0G"
      },
      "outputs": [],
      "source": [
        "# Keeping only the variables we need n removing the dummy var. reference categories.\n",
        "ead_X_train = ead_X_train[features_all]\n",
        "ead_X_train = ead_X_train.drop(features_reference_cat, axis = 1)"
      ]
    },
    {
      "cell_type": "code",
      "execution_count": null,
      "metadata": {
        "colab": {
          "base_uri": "https://localhost:8080/"
        },
        "id": "gWh08j-G5f0I",
        "outputId": "3e2fd2fe-2846-4249-93ba-cb8f37e78510"
      },
      "outputs": [],
      "source": [
        "# Creating an instance of an object from the 'LogisticRegression' class.\n",
        "reg_ead = LinearRegression()\n",
        "# Estimates the coefficients of the object from the 'LogisticRegression' class\n",
        "# with inputs (independent variables) contained in the first dataframe\n",
        "# and targets (dependent variables) contained in the second dataframe.\n",
        "reg_ead.fit(ead_X_train, ead_Y_train)"
      ]
    },
    {
      "cell_type": "code",
      "execution_count": 76,
      "metadata": {
        "id": "hZ5Eqy-H5f0I"
      },
      "outputs": [],
      "source": [
        "feature_name = ead_X_train.columns.values"
      ]
    },
    {
      "cell_type": "code",
      "execution_count": null,
      "metadata": {
        "colab": {
          "base_uri": "https://localhost:8080/",
          "height": 1000
        },
        "id": "wzzo0ssC5f0K",
        "outputId": "f9c76421-8281-4326-aadc-fe6dbb86aa3b"
      },
      "outputs": [],
      "source": [
        "summary_table = pd.DataFrame(columns = ['Feature name'], data = feature_name)\n",
        "summary_table['Coefficients'] = np.transpose(reg_ead.coef_)\n",
        "summary_table.index = summary_table.index + 1\n",
        "summary_table.loc[0] = ['Intercept', reg_ead.intercept_]\n",
        "summary_table = summary_table.sort_index()\n",
        "p_values = reg_ead.p\n",
        "p_values = np.append(np.nan,np.array(p_values))\n",
        "summary_table['p_values'] = p_values\n",
        "summary_table"
      ]
    },
    {
      "cell_type": "markdown",
      "metadata": {
        "id": "0q8f010K5f0L"
      },
      "source": [
        "### b Model Validation"
      ]
    },
    {
      "cell_type": "code",
      "execution_count": 78,
      "metadata": {
        "id": "Wy-7MKXG5f0L"
      },
      "outputs": [],
      "source": [
        "# keeping only the variables needed and removing dummy variables\n",
        "ead_X_test = ead_X_test[features_all]\n",
        "ead_X_test = ead_X_test.drop(features_reference_cat, axis = 1)"
      ]
    },
    {
      "cell_type": "code",
      "execution_count": null,
      "metadata": {
        "colab": {
          "base_uri": "https://localhost:8080/"
        },
        "id": "tqKJq7Ot5f0N",
        "outputId": "44105b5f-b1fc-4ce0-b89c-857bac9c5e80"
      },
      "outputs": [],
      "source": [
        "ead_X_test.columns.values"
      ]
    },
    {
      "cell_type": "code",
      "execution_count": 80,
      "metadata": {
        "id": "XQKrv_VE5f0N"
      },
      "outputs": [],
      "source": [
        "# Calculating the predicted vals\n",
        "y_hat_test_ead = reg_ead.predict(ead_X_test)"
      ]
    },
    {
      "cell_type": "code",
      "execution_count": 81,
      "metadata": {
        "id": "8oifMo6u5f0O"
      },
      "outputs": [],
      "source": [
        "ead_Y_test_temp = ead_Y_test"
      ]
    },
    {
      "cell_type": "code",
      "execution_count": 82,
      "metadata": {
        "id": "zCmxX1Q15f0O"
      },
      "outputs": [],
      "source": [
        "ead_Y_test_temp = ead_Y_test_temp.reset_index(drop = True)\n",
        "# We reset the index of a dataframe."
      ]
    },
    {
      "cell_type": "code",
      "execution_count": null,
      "metadata": {
        "colab": {
          "base_uri": "https://localhost:8080/",
          "height": 112
        },
        "id": "hK6YO-3d5f0P",
        "outputId": "1f18f512-eae7-4913-b317-259111c34d6b"
      },
      "outputs": [],
      "source": [
        "# Calculating the correlation between actual and predicted values.\n",
        "pd.concat([ead_Y_test_temp, pd.DataFrame(y_hat_test_ead)], axis = 1).corr()\n"
      ]
    },
    {
      "cell_type": "code",
      "execution_count": null,
      "metadata": {
        "colab": {
          "base_uri": "https://localhost:8080/",
          "height": 357
        },
        "id": "s-I0F8lN5f0P",
        "outputId": "98d257c4-5e68-4163-f70a-12397fb458ea"
      },
      "outputs": [],
      "source": [
        "# Plotting the distribution of the residuals.\n",
        "sns.distplot(ead_Y_test - y_hat_test_ead)"
      ]
    },
    {
      "cell_type": "code",
      "execution_count": null,
      "metadata": {
        "colab": {
          "base_uri": "https://localhost:8080/",
          "height": 300
        },
        "id": "N0QT-GSV5f0Q",
        "outputId": "15de6245-0437-468c-ba34-ccbe65b69029"
      },
      "outputs": [],
      "source": [
        "# Descriptive statisics for the values of a column.\n",
        "pd.DataFrame(y_hat_test_ead).describe()"
      ]
    },
    {
      "cell_type": "code",
      "execution_count": 86,
      "metadata": {
        "id": "K_T5cZA95f0Q"
      },
      "outputs": [],
      "source": [
        "# Setting predicted values that are greater than 1 to 1 and vice versa\n",
        "y_hat_test_ead = np.where(y_hat_test_ead < 0, 0, y_hat_test_ead)\n",
        "y_hat_test_ead = np.where(y_hat_test_ead > 1, 1, y_hat_test_ead)"
      ]
    },
    {
      "cell_type": "code",
      "execution_count": null,
      "metadata": {
        "colab": {
          "base_uri": "https://localhost:8080/",
          "height": 300
        },
        "id": "IfHtfSaW5f0R",
        "outputId": "4a020d2f-50ac-4508-cac6-5f9c5964e809"
      },
      "outputs": [],
      "source": [
        "# some descriptive statisics for the values of a column.\n",
        "pd.DataFrame(y_hat_test_ead).describe()"
      ]
    },
    {
      "cell_type": "markdown",
      "metadata": {
        "id": "CoQOoMrt5_MU"
      },
      "source": [
        "#4 Expected Loss"
      ]
    },
    {
      "cell_type": "code",
      "execution_count": 88,
      "metadata": {
        "id": "kwUAZvm4hYHs"
      },
      "outputs": [],
      "source": [
        "#cleaning the memory\n",
        "loan_data_preprocessed_backup = []\n",
        "\n",
        "loan_data_defaults = []\n",
        "lgd_X_S1_train, lgd_X_S1_test, lgd_Y_S1_train, lgd_Y_S1_test  = [], [],[],[]\n",
        "lgd_step_2_data =[]\n",
        "lgd_X_S2_train, lgd_X_S2_test, lgd_Y_S2_train, lgd_Y_S2_test = [],[],[],[]\n",
        "ead_X_train, ead_X_test, ead_Y_train, ead_Y_test = [], [], [], []"
      ]
    },
    {
      "cell_type": "code",
      "execution_count": 89,
      "metadata": {
        "id": "qi5t68_Y5_MU"
      },
      "outputs": [],
      "source": [
        "# filling the missing values with zeroes.\n",
        "loan_data_preprocessed['mths_since_last_delinq'].fillna(0, inplace = True)\n",
        "loan_data_preprocessed['mths_since_last_record'].fillna(0, inplace = True)"
      ]
    },
    {
      "cell_type": "code",
      "execution_count": 90,
      "metadata": {
        "id": "fFlsaI9g5_MU"
      },
      "outputs": [],
      "source": [
        "# keeping the variables only we need for the model.\n",
        "loan_data_preprocessed_lgd_ead = loan_data_preprocessed[features_all]\n",
        "# removing the dummy variable ref cats.\n",
        "loan_data_preprocessed_lgd_ead = loan_data_preprocessed_lgd_ead.drop(features_reference_cat, axis = 1)"
      ]
    },
    {
      "cell_type": "code",
      "execution_count": 91,
      "metadata": {
        "id": "fQM-JN-V5_MV"
      },
      "outputs": [],
      "source": [
        "### 1- LGD MODELS ###\n",
        "# using step 1 LGD model to calculate predicted values.\n",
        "loan_data_preprocessed['recovery_rate_st_1'] = reg_lgd_st_1.model.predict(loan_data_preprocessed_lgd_ead)\n",
        "# using step 2 LGD model to calculate predicted values.\n",
        "loan_data_preprocessed['recovery_rate_st_2'] = reg_lgd_st_2.predict(loan_data_preprocessed_lgd_ead)"
      ]
    },
    {
      "cell_type": "code",
      "execution_count": 92,
      "metadata": {
        "id": "8_8ywVQu5_MW"
      },
      "outputs": [],
      "source": [
        "# Combining the predicted values from steps 1 + 2 to determine the final estimated recovery rate.\n",
        "loan_data_preprocessed['recovery_rate'] = loan_data_preprocessed['recovery_rate_st_1'] * loan_data_preprocessed['recovery_rate_st_2']\n",
        "# Setting estimated recovery rates greater than 1 to 1 and vice versa\n",
        "loan_data_preprocessed['recovery_rate'] = np.where(loan_data_preprocessed['recovery_rate'] < 0, 0, loan_data_preprocessed['recovery_rate'])\n",
        "loan_data_preprocessed['recovery_rate'] = np.where(loan_data_preprocessed['recovery_rate'] > 1, 1, loan_data_preprocessed['recovery_rate'])"
      ]
    },
    {
      "cell_type": "code",
      "execution_count": null,
      "metadata": {
        "colab": {
          "base_uri": "https://localhost:8080/"
        },
        "id": "ovpJr8Nr5_MX",
        "outputId": "33a587a5-ac15-4eec-cae3-dd38678110d3"
      },
      "outputs": [],
      "source": [
        "# Calculating estimated LGD. Estimated LGD equals 1 - estimated recovery rate.\n",
        "loan_data_preprocessed['LGD'] = 1 - loan_data_preprocessed['recovery_rate']\n",
        "# Some descriptive statisics\n",
        "loan_data_preprocessed['LGD'].describe()"
      ]
    },
    {
      "cell_type": "code",
      "execution_count": 94,
      "metadata": {
        "id": "wHgOftNr5_MX"
      },
      "outputs": [],
      "source": [
        "### 2- EAD MODEL ###\n",
        "# Applying EAD model to calculate estimated credit conversion factor.\n",
        "loan_data_preprocessed['CCF'] = reg_ead.predict(loan_data_preprocessed_lgd_ead)"
      ]
    },
    {
      "cell_type": "code",
      "execution_count": 95,
      "metadata": {
        "id": "9gaf4whE5_MY"
      },
      "outputs": [],
      "source": [
        "# Setting estimated CCF that are greater than 1 to 1 and vice versa\n",
        "loan_data_preprocessed['CCF'] = np.where(loan_data_preprocessed['CCF'] < 0, 0, loan_data_preprocessed['CCF'])\n",
        "loan_data_preprocessed['CCF'] = np.where(loan_data_preprocessed['CCF'] > 1, 1, loan_data_preprocessed['CCF'])\n"
      ]
    },
    {
      "cell_type": "code",
      "execution_count": null,
      "metadata": {
        "colab": {
          "base_uri": "https://localhost:8080/"
        },
        "id": "T5CgQXBU5_MY",
        "outputId": "4b21d1ba-7404-43c6-dd59-68901b66e51a"
      },
      "outputs": [],
      "source": [
        "# Estimated EAD = estimated CCF multiplied by funded amount.\n",
        "loan_data_preprocessed['EAD'] = loan_data_preprocessed['CCF'] * loan_data_preprocessed_lgd_ead['funded_amnt']\n",
        "# Some descriptive statisics\n",
        "loan_data_preprocessed['EAD'].describe()\n"
      ]
    },
    {
      "cell_type": "code",
      "execution_count": 97,
      "metadata": {
        "id": "fJss_9_M5_MZ"
      },
      "outputs": [],
      "source": [
        "### 3- PD MODEL ###\n",
        "# Importing data to apply the PD model.\n",
        "loan_data_inputs_train = pd.read_csv('loan_data_inputs_train.csv')\n",
        "loan_data_inputs_test = pd.read_csv('loan_data_inputs_test.csv')"
      ]
    },
    {
      "cell_type": "code",
      "execution_count": 98,
      "metadata": {
        "id": "eolUSp_T5_Ma"
      },
      "outputs": [],
      "source": [
        "# Concating the two dfs\n",
        "loan_data_inputs_pd = pd.concat([loan_data_inputs_train, loan_data_inputs_test], axis = 0)\n",
        "# #clearing memeory\n",
        "loan_data_inputs_train, loan_data_inputs_test = [],[] "
      ]
    },
    {
      "cell_type": "code",
      "execution_count": null,
      "metadata": {
        "colab": {
          "base_uri": "https://localhost:8080/"
        },
        "id": "GMc9RwX15_Ma",
        "outputId": "3e23f9d0-c4a6-4356-a75e-e7280fdd1c87"
      },
      "outputs": [],
      "source": [
        "loan_data_inputs_pd.shape"
      ]
    },
    {
      "cell_type": "code",
      "execution_count": null,
      "metadata": {
        "colab": {
          "base_uri": "https://localhost:8080/",
          "height": 404
        },
        "id": "MNfDZrCA5_Mb",
        "outputId": "e3420dac-8c31-46b5-edba-419791c57eb5"
      },
      "outputs": [],
      "source": [
        "loan_data_inputs_pd.head()"
      ]
    },
    {
      "cell_type": "code",
      "execution_count": null,
      "metadata": {
        "colab": {
          "base_uri": "https://localhost:8080/",
          "height": 453
        },
        "id": "GxFxworf5_Mb",
        "outputId": "5d87edab-98c5-4b8e-84a0-c17bbe631ed2"
      },
      "outputs": [],
      "source": [
        "# Setting the index \n",
        "loan_data_inputs_pd = loan_data_inputs_pd.set_index('Unnamed: 0')\n",
        "loan_data_inputs_pd.head()"
      ]
    },
    {
      "cell_type": "code",
      "execution_count": 102,
      "metadata": {
        "id": "8XhHSqIP5_Me"
      },
      "outputs": [],
      "source": [
        "# Here we select a limited set of input variables                                           \n",
        "features_all_pd = ['grade:A',\n",
        "'grade:B',\n",
        "'grade:C',\n",
        "'grade:D',\n",
        "'grade:E',\n",
        "'grade:F',\n",
        "'grade:G',\n",
        "'home_ownership:RENT_OTHER_NONE_ANY',\n",
        "'home_ownership:OWN',\n",
        "'home_ownership:MORTGAGE',\n",
        "'addr_state:ND_NE_IA_NV_FL_HI_AL',\n",
        "'addr_state:NM_VA',\n",
        "'addr_state:NY',\n",
        "'addr_state:OK_TN_MO_LA_MD_NC',\n",
        "'addr_state:CA',\n",
        "'addr_state:UT_KY_AZ_NJ',\n",
        "'addr_state:AR_MI_PA_OH_MN',\n",
        "'addr_state:RI_MA_DE_SD_IN',\n",
        "'addr_state:GA_WA_OR',\n",
        "'addr_state:WI_MT',\n",
        "'addr_state:TX',\n",
        "'addr_state:IL_CT',\n",
        "'addr_state:KS_SC_CO_VT_AK_MS',\n",
        "'addr_state:WV_NH_WY_DC_ME_ID',\n",
        "'verification_status:Not Verified',\n",
        "'verification_status:Source Verified',\n",
        "'verification_status:Verified',\n",
        "'purpose:educ__sm_b__wedd__ren_en__mov__house',\n",
        "'purpose:credit_card',\n",
        "'purpose:debt_consolidation',\n",
        "'purpose:oth__med__vacation',\n",
        "'purpose:major_purch__car__home_impr',\n",
        "'initial_list_status:f',\n",
        "'initial_list_status:w',\n",
        "'term:36',\n",
        "'term:60',\n",
        "'emp_length:0',\n",
        "'emp_length:1',\n",
        "'emp_length:2-4',\n",
        "'emp_length:5-6',\n",
        "'emp_length:7-9',\n",
        "'emp_length:10',\n",
        "'int_rate:<9.548',\n",
        "'int_rate:9.548-12.025',\n",
        "'int_rate:12.025-15.74',\n",
        "'int_rate:15.74-20.281',\n",
        "'int_rate:>20.281',\n",
        "#'mths_since_earliest_cr_line:<140',\n",
        "#'mths_since_earliest_cr_line:141-164',\n",
        "#'mths_since_earliest_cr_line:165-247',\n",
        "#'mths_since_earliest_cr_line:248-270',\n",
        "#'mths_since_earliest_cr_line:271-352',\n",
        "#'mths_since_earliest_cr_line:>352',\n",
        "#'delinq_2yrs:0',\n",
        "#'delinq_2yrs:1-3',\n",
        "#'delinq_2yrs:>=4',\n",
        "'inq_last_6mths:0',\n",
        "'inq_last_6mths:1-2',\n",
        "'inq_last_6mths:3-6',\n",
        "'inq_last_6mths:>6',\n",
        "#'open_acc:0',\n",
        "#'open_acc:1-3',\n",
        "#'open_acc:4-12',\n",
        "#'open_acc:13-17',\n",
        "#'open_acc:18-22',\n",
        "#'open_acc:23-25',\n",
        "#'open_acc:26-30',\n",
        "#'open_acc:>=31',\n",
        "'pub_rec:0-2',\n",
        "'pub_rec:3-4',\n",
        "'pub_rec:>=5',\n",
        "#'total_acc:<=27',\n",
        "#'total_acc:28-51',\n",
        "#'total_acc:>=52',\n",
        "'acc_now_delinq:0',\n",
        "'acc_now_delinq:>=1',\n",
        "'total_rev_hi_lim:<=5K',\n",
        "'total_rev_hi_lim:5K-10K',\n",
        "'total_rev_hi_lim:10K-20K',\n",
        "'total_rev_hi_lim:20K-30K',\n",
        "'total_rev_hi_lim:30K-40K',\n",
        "'total_rev_hi_lim:40K-55K',\n",
        "'total_rev_hi_lim:55K-95K',\n",
        "'total_rev_hi_lim:>95K',\n",
        "'annual_inc:<20K',\n",
        "'annual_inc:20K-30K',\n",
        "'annual_inc:30K-40K',\n",
        "'annual_inc:40K-50K',\n",
        "'annual_inc:50K-60K',\n",
        "'annual_inc:60K-70K',\n",
        "'annual_inc:70K-80K',\n",
        "'annual_inc:80K-90K',\n",
        "'annual_inc:90K-100K',\n",
        "'annual_inc:100K-120K',\n",
        "'annual_inc:120K-140K',\n",
        "'annual_inc:>140K',\n",
        "'dti:<=1.4',\n",
        "'dti:1.4-3.5',\n",
        "'dti:3.5-7.7',\n",
        "'dti:7.7-10.5',\n",
        "'dti:10.5-16.1',\n",
        "'dti:16.1-20.3',\n",
        "'dti:20.3-21.7',\n",
        "'dti:21.7-22.4',\n",
        "'dti:22.4-35',\n",
        "'dti:>35',\n",
        "#'mths_since_last_delinq:Missing',\n",
        "#'mths_since_last_delinq:0-3',\n",
        "#'mths_since_last_delinq:4-30',\n",
        "#'mths_since_last_delinq:31-56',\n",
        "#'mths_since_last_delinq:>=57',\n",
        "#'mths_since_last_record:Missing',\n",
        "#'mths_since_last_record:0-2',\n",
        "#'mths_since_last_record:3-20',\n",
        "#'mths_since_last_record:21-31',\n",
        "#'mths_since_last_record:32-80',\n",
        "#'mths_since_last_record:81-86',\n",
        "#'mths_since_last_record:>=86',\n",
        "]"
      ]
    },
    {
      "cell_type": "code",
      "execution_count": 103,
      "metadata": {
        "id": "a3Z8LLH-5_Mg"
      },
      "outputs": [],
      "source": [
        "# Here we store the names of the reference category dummy variables in a list.\n",
        "ref_categories_pd = ['grade:G',\n",
        "'home_ownership:RENT_OTHER_NONE_ANY',\n",
        "'addr_state:ND_NE_IA_NV_FL_HI_AL',\n",
        "'verification_status:Verified',\n",
        "'purpose:educ__sm_b__wedd__ren_en__mov__house',\n",
        "'initial_list_status:f',\n",
        "'term:60',\n",
        "'emp_length:0',\n",
        "'int_rate:>20.281',\n",
        "#'mths_since_earliest_cr_line:<140',\n",
        "#'delinq_2yrs:>=4',\n",
        "'inq_last_6mths:>6',\n",
        "#'open_acc:0',\n",
        "'pub_rec:0-2',\n",
        "#'total_acc:<=27',\n",
        "'acc_now_delinq:0',\n",
        "'total_rev_hi_lim:<=5K',\n",
        "'annual_inc:<20K',\n",
        "'dti:>35'\n",
        "#'mths_since_last_delinq:0-3',\n",
        "#'mths_since_last_record:0-2'\n",
        "]"
      ]
    },
    {
      "cell_type": "code",
      "execution_count": 104,
      "metadata": {
        "id": "_TCKDrJj5_Mh"
      },
      "outputs": [],
      "source": [
        "# keeping the variables that we need for the PD model.\n",
        "loan_data_inputs_pd_temp = loan_data_inputs_pd[features_all_pd]\n",
        "# removing the dummy variable reference categories.\n",
        "loan_data_inputs_pd_temp = loan_data_inputs_pd_temp.drop(ref_categories_pd, axis = 1)"
      ]
    },
    {
      "cell_type": "code",
      "execution_count": null,
      "metadata": {
        "colab": {
          "base_uri": "https://localhost:8080/"
        },
        "id": "1af6MVXL5_Mi",
        "outputId": "6b51f748-58c9-46e9-c677-b6a62a692d5a"
      },
      "outputs": [],
      "source": [
        "loan_data_inputs_pd_temp.shape"
      ]
    },
    {
      "cell_type": "code",
      "execution_count": null,
      "metadata": {
        "colab": {
          "base_uri": "https://localhost:8080/"
        },
        "id": "5SgNfWhw5_Mi",
        "outputId": "fbf5981b-a7bd-4091-9322-b6b7d40d3463"
      },
      "outputs": [],
      "source": [
        "# Importing the PD model, stored in second notebook\n",
        "reg_pd = pickle.load(open('../models/pd_model.sav', 'rb'))\n",
        "# applying the PD model -  estimated default probabilities\n",
        "loan_data_inputs_pd['PD'] = reg_pd.model.predict_proba(loan_data_inputs_pd_temp)[: ][: , 0]\n",
        "# Some descriptive stats\n",
        "loan_data_inputs_pd['PD'].describe()"
      ]
    },
    {
      "cell_type": "code",
      "execution_count": 107,
      "metadata": {
        "id": "guT2Gjmr5_Mo"
      },
      "outputs": [],
      "source": [
        "# Concanating the dfs of LGD and EAD with the one of PD\n",
        "loan_data_preprocessed_new = pd.concat([loan_data_preprocessed, loan_data_inputs_pd], axis = 1)\n",
        "# Keeping necessary colomns for memory\n",
        "loan_data_preprocessed_new = loan_data_preprocessed_new[['funded_amnt', 'PD', 'LGD', 'EAD']] \n",
        "# Cleaning memory\n",
        "loan_data_preprocessed, loan_data_inputs_pd = [],[] "
      ]
    },
    {
      "cell_type": "code",
      "execution_count": null,
      "metadata": {
        "colab": {
          "base_uri": "https://localhost:8080/"
        },
        "id": "QMmVl1LL5_Mo",
        "outputId": "fe939ca9-9a30-4ee0-abd4-cd038676cb33"
      },
      "outputs": [],
      "source": [
        "loan_data_preprocessed_new.shape"
      ]
    },
    {
      "cell_type": "code",
      "execution_count": null,
      "metadata": {
        "colab": {
          "base_uri": "https://localhost:8080/"
        },
        "id": "s0_5KKo15_Mp",
        "outputId": "6eb52aff-9e97-4c8f-bf53-5555769d0f90"
      },
      "outputs": [],
      "source": [
        "# Calculating Expected Loss. EL = PD * LGD * EAD.\n",
        "loan_data_preprocessed_new['EL'] = loan_data_preprocessed_new['PD'] * loan_data_preprocessed_new['LGD'] * loan_data_preprocessed_new['EAD']\n",
        "# Some descriptive statisics for the values of a column.\n",
        "loan_data_preprocessed_new['EL'].describe()"
      ]
    },
    {
      "cell_type": "code",
      "execution_count": null,
      "metadata": {
        "colab": {
          "base_uri": "https://localhost:8080/",
          "height": 206
        },
        "id": "5oy6Bin15_Mp",
        "outputId": "1cc26b75-85f6-4620-9e51-f9bd93d3f711"
      },
      "outputs": [],
      "source": [
        "loan_data_preprocessed_new[['funded_amnt', 'PD', 'LGD', 'EAD', 'EL']].head()"
      ]
    },
    {
      "cell_type": "code",
      "execution_count": null,
      "metadata": {
        "colab": {
          "base_uri": "https://localhost:8080/",
          "height": 300
        },
        "id": "dRn5yprX5_Mp",
        "outputId": "1c02cdca-7c34-4396-fb2a-6ea3d6a1c961"
      },
      "outputs": [],
      "source": [
        "loan_data_preprocessed_new['funded_amnt'].describe()"
      ]
    },
    {
      "cell_type": "code",
      "execution_count": null,
      "metadata": {
        "colab": {
          "base_uri": "https://localhost:8080/"
        },
        "id": "OsOtRJ725_Mq",
        "outputId": "67b88f71-2564-4295-80f6-83bcf1dd187a"
      },
      "outputs": [],
      "source": [
        "# Total Expected Loss for All Loans calculated below\n",
        "loan_data_preprocessed_new['EL'].sum()"
      ]
    },
    {
      "cell_type": "code",
      "execution_count": null,
      "metadata": {
        "colab": {
          "base_uri": "https://localhost:8080/"
        },
        "id": "30zBMuA15_Mq",
        "outputId": "54700ff1-e90d-4992-f2bf-17a7b339765c"
      },
      "outputs": [],
      "source": [
        "# Total funded amount for all loans calculated below\n",
        "loan_data_preprocessed_new['funded_amnt'].sum()"
      ]
    },
    {
      "cell_type": "code",
      "execution_count": null,
      "metadata": {
        "colab": {
          "base_uri": "https://localhost:8080/"
        },
        "id": "4zmgFNh85_Mq",
        "outputId": "5864bc28-7bbe-4298-bf63-9ff84788c65f",
        "scrolled": true
      },
      "outputs": [],
      "source": [
        "# Total expected loss divided by total funded amount for all loans.\n",
        "loan_data_preprocessed_new['EL'].sum() / loan_data_preprocessed_new['funded_amnt'].sum()"
      ]
    },
    {
      "cell_type": "markdown",
      "metadata": {
        "id": "b6f-s1JsnJPg"
      },
      "source": [
        "Total expected loss divided by total funded amount for all loans is equal to **7.6%**. It is the percentage that the credit institute needs to take into consideration in its future decisions on credit loan requirements."
      ]
    },
    {
      "cell_type": "markdown",
      "metadata": {
        "id": "gbO-q4zX6IS5"
      },
      "source": [
        "--- End of Notebook ---\n",
        "# END"
      ]
    }
  ],
  "metadata": {
    "colab": {
      "provenance": []
    },
    "gpuClass": "standard",
    "kernelspec": {
      "display_name": "myenv",
      "language": "python",
      "name": "python3"
    },
    "language_info": {
      "codemirror_mode": {
        "name": "ipython",
        "version": 3
      },
      "file_extension": ".py",
      "mimetype": "text/x-python",
      "name": "python",
      "nbconvert_exporter": "python",
      "pygments_lexer": "ipython3",
      "version": "3.9.21"
    }
  },
  "nbformat": 4,
  "nbformat_minor": 0
}
